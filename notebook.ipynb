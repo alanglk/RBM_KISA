{
 "cells": [
  {
   "cell_type": "markdown",
   "metadata": {},
   "source": [
    "# Markov chains for gradient estimation in the context of Restricted Boltzman Machine Learning\n",
    "\n",
    "_Authors: Alan García and Sandra Burgos_"
   ]
  },
  {
   "cell_type": "markdown",
   "metadata": {},
   "source": [
    "Throughout this notebook, the implementation of two training methods for Restricted Boltzmann Machines (RBMs) is carried out: the Contrastive Divergence algorithm and Persistent Contrastive Divergence. These implementations require a deep understanding of how RBMs function, and not all aspects of the implementation are explicitly explained within the notebook. More details on the implementation can be found in the attached report.\n",
    "\n",
    "Additionally, despite having created functional implementations, several challenges were encountered during development and it is possible that there are still bugs that have not been identified."
   ]
  },
  {
   "cell_type": "markdown",
   "metadata": {},
   "source": [
    "## Packages"
   ]
  },
  {
   "cell_type": "code",
   "execution_count": 34,
   "metadata": {},
   "outputs": [],
   "source": [
    "# Main packages for the implementation\n",
    "import gzip\n",
    "import numpy as np\n",
    "from abc import ABC, abstractmethod\n",
    "import pickle\n",
    "import os\n",
    "\n",
    "# Just for working with datasets\n",
    "from sklearn.model_selection import train_test_split\n",
    "from sklearn.utils import gen_batches\n",
    "\n",
    "# For plotting\n",
    "import matplotlib.pyplot as plt"
   ]
  },
  {
   "cell_type": "code",
   "execution_count": 35,
   "metadata": {},
   "outputs": [],
   "source": [
    "np.random.seed(42) # For reproducibility"
   ]
  },
  {
   "cell_type": "markdown",
   "metadata": {},
   "source": [
    "## Datasets"
   ]
  },
  {
   "cell_type": "markdown",
   "metadata": {},
   "source": [
    "For the development and testing of the RBM implementations, the MNIST handwritten digits dataset has been used. The training and test sets were downloaded from the official website [https://yann.lecun.com/exdb/mnist/](https://yann.lecun.com/exdb/mnist/), where the necessary information for decoding the dataset is also provided.\n",
    "\n",
    "The `MNIST` class implements an iterator that reads each image and its associated label from the dataset. Additionally, two methods, `to_list()` and `to_numpy()`, have been implemented to facilitate the conversion of the dataset into formats that are more convenient for processing and model training."
   ]
  },
  {
   "cell_type": "code",
   "execution_count": 36,
   "metadata": {},
   "outputs": [],
   "source": [
    "class MNIST:\n",
    "    \"\"\"\n",
    "    https://yann.lecun.com/exdb/mnist/\n",
    "    ubyte format of MNIST images:\n",
    "        [offset] [type]          [value]          [description]\n",
    "        0000     32 bit integer  0x00000803(2051) magic number\n",
    "        0004     32 bit integer  10000            number of images\n",
    "        0008     32 bit integer  28               number of rows\n",
    "        0012     32 bit integer  28               number of columns\n",
    "        0016     unsigned byte   ??               pixel\n",
    "        0017     unsigned byte   ??               pixel\n",
    "        ........\n",
    "        xxxx     unsigned byte   ??               pixel\n",
    "    \n",
    "    ubyte format of MNIST labels:\n",
    "        [offset] [type]          [value]          [description]\n",
    "        0000     32 bit integer  0x00000801(2049) magic number (MSB first)\n",
    "        0004     32 bit integer  60000            number of items\n",
    "        0008     unsigned byte   ??               label\n",
    "        0009     unsigned byte   ??               label\n",
    "        ........\n",
    "        xxxx     unsigned byte   ??               label\n",
    "    \"\"\"\n",
    "    \n",
    "    def __init__(self, images_path: str, label_path: str, N: int = None) -> None:\n",
    "        \"\"\"\n",
    "            INPUT:\n",
    "                - images path: path of the dataset images\n",
    "                - labels path: path of the dataset labels\n",
    "                - N: if not provided, all the images in the input file are read.\n",
    "                    Else, N images are read.\n",
    "        \"\"\"\n",
    "        \n",
    "        self.images_path = images_path\n",
    "        self.labels_path = label_path\n",
    "\n",
    "        # Open with gzip to uncompress the files\n",
    "        self.images_file = gzip.open(self.images_path, \"rb\")\n",
    "        self.labels_file = gzip.open(self.labels_path, \"rb\")\n",
    "        self.images_file.read(4) # Ignore the magic numbers\n",
    "        self.labels_file.read(4)\n",
    "\n",
    "        # Prepare Images data file reader\n",
    "        self.number_of_items = int.from_bytes(self.images_file.read(4), byteorder=\"big\") # Total number of images\n",
    "        self.row_num = int.from_bytes(self.images_file.read(4), byteorder=\"big\")    # row pixels of image\n",
    "        self.col_num = int.from_bytes(self.images_file.read(4), byteorder=\"big\")    # col pixels of image\n",
    "        \n",
    "        self.N = self.number_of_items if N is None else N # Number of items to be read\n",
    "        self.num_bytes_per_image = self.col_num * self.row_num\n",
    "        self.returned_images = 0    # Number of read images\n",
    "        self.images_file.seek(16)   # Set the cursor to the init of the first image\n",
    "\n",
    "        # Prepare Labels file reader\n",
    "        assert self.number_of_items == int.from_bytes(self.labels_file.read(4), byteorder=\"big\")\n",
    "        self.labels_file.seek(8)\n",
    "\n",
    "        # Print metadata\n",
    "        print(f\"[MNIST]     image size: {self.col_num}x{self.row_num} total dataset images: {self.number_of_items} images to be read: {self.N}\")\n",
    "\n",
    "        \n",
    "\n",
    "    def __iter__(self):\n",
    "        \"\"\"Create an iterator for the MNIST dataset\"\"\"\n",
    "        return self\n",
    "\n",
    "    def __next__(self):\n",
    "        \"\"\"Return the next image in the dataset\"\"\"\n",
    "        if self.returned_images >= self.N:\n",
    "            self.images_file.close()\n",
    "            self.labels_file.close()\n",
    "            raise StopIteration\n",
    "        else:\n",
    "            pixels = []\n",
    "            for _ in range(self.num_bytes_per_image):\n",
    "                data = self.images_file.read(1)\n",
    "\n",
    "                if not data:\n",
    "                    print(f\"[MNIST]     ERROR -> This should not be reached\")\n",
    "                    self.file.close()\n",
    "                    raise StopIteration\n",
    "                \n",
    "                pixels.append(int.from_bytes(data, byteorder=\"big\"))\n",
    "            label = int.from_bytes(self.labels_file.read(1))\n",
    "            self.returned_images += 1\n",
    "\n",
    "            pixels = np.array(pixels)\n",
    "            pixels = pixels / 255 # Normalize data \n",
    "            pixels = np.where(pixels > 0.5, 1, 0) # Transform to binary\n",
    "            return pixels.tolist(), label\n",
    "\n",
    "    def __del__(self):\n",
    "        # Close the files if the object is destroyed\n",
    "        if hasattr(self, 'images_file') and not self.images_file.closed:\n",
    "            self.images_file.close()\n",
    "        if hasattr(self, 'labels_file') and not self.labels_file.closed:\n",
    "            self.labels_file.close()\n",
    "\n",
    "    def to_list(self):\n",
    "        return list(self)\n",
    "    \n",
    "    def to_numpy(self):\n",
    "        dataset = self.to_list()\n",
    "        X = np.array([item[0] for item in dataset])\n",
    "        Y = np.array([item[1] for item in dataset])\n",
    "        return X, Y"
   ]
  },
  {
   "cell_type": "markdown",
   "metadata": {},
   "source": [
    "Here is a test to check if the `MNIST` class is able to load the encoded MNIST Dataset from the `./data/` folder:"
   ]
  },
  {
   "cell_type": "code",
   "execution_count": 37,
   "metadata": {},
   "outputs": [
    {
     "name": "stdout",
     "output_type": "stream",
     "text": [
      "[MNIST]     image size: 28x28 total dataset images: 10000 images to be read: 10\n"
     ]
    },
    {
     "data": {
      "image/png": "[encoded data removed]",
      "text/plain": [
       "<Figure size 1000x200 with 10 Axes>"
      ]
     },
     "metadata": {},
     "output_type": "display_data"
    }
   ],
   "source": [
    "def MNIST_test():\n",
    "    # Read the 10 first images from the MNIST dataset\n",
    "    dataset = MNIST(\"./data/t10k-images-idx3-ubyte.gz\", \"./data/t10k-labels-idx1-ubyte.gz\", 10)\n",
    "\n",
    "    # Iterate the dataset\n",
    "    images = []\n",
    "    for img, label in dataset:\n",
    "        images.append((img, label))\n",
    "\n",
    "    # Show the result\n",
    "    fig, axes = plt.subplots(1, len(images), figsize=(10, 2))\n",
    "    for i in range(len(images)):\n",
    "        img = np.array(images[i][0]).reshape(28, 28)\n",
    "        axes[i].set_title(f\"{images[i][1]}\")\n",
    "        axes[i].imshow(img, cmap=\"gray\")  # Redimensiona cada imagen a 28x28\n",
    "        axes[i].axis(\"off\")  # Oculta los ejes\n",
    "\n",
    "    plt.show()\n",
    "\n",
    "MNIST_test()"
   ]
  },
  {
   "cell_type": "markdown",
   "metadata": {},
   "source": [
    "Load the train and test sets (it takes a while):"
   ]
  },
  {
   "cell_type": "code",
   "execution_count": 38,
   "metadata": {},
   "outputs": [
    {
     "name": "stdout",
     "output_type": "stream",
     "text": [
      "[MNIST]     image size: 28x28 total dataset images: 60000 images to be read: 60000\n",
      "[MNIST]     image size: 28x28 total dataset images: 10000 images to be read: 10000\n"
     ]
    }
   ],
   "source": [
    "dataset_train       = MNIST(\"./data/train-images-idx3-ubyte.gz\", \"./data/train-labels-idx1-ubyte.gz\")\n",
    "dataset_test        = MNIST(\"./data/t10k-images-idx3-ubyte.gz\", \"./data/t10k-labels-idx1-ubyte.gz\")\n",
    "X_train, Y_train    = dataset_train.to_numpy()\n",
    "X_test, Y_test      = dataset_test.to_numpy()"
   ]
  },
  {
   "cell_type": "markdown",
   "metadata": {},
   "source": [
    "## RBM Base"
   ]
  },
  {
   "cell_type": "markdown",
   "metadata": {},
   "source": [
    "For the implementation of the Restricted Boltzmann Machine (RBM), the sigmoid function has been defined as the activation function and is given by:\n",
    "\n",
    "\n",
    "$$ \\sigma(z) = \\frac{1}{1 + e^{-z}} $$\n",
    "\n",
    "Additionally, the KL-Divergence has been defined to perform experiments comparing distributions, and its formula is given by:\n",
    "\n",
    "$$ D_{\\text{KL}}(P \\parallel Q) = \\sum_{x} P(x) \\log\\frac{P(x)}{Q(x)} $$"
   ]
  },
  {
   "cell_type": "code",
   "execution_count": 39,
   "metadata": {},
   "outputs": [],
   "source": [
    "def sigmoid(z):\n",
    "    return 1/(1 + np.exp(-z))\n",
    "\n",
    "def kl_divergence(p, q):\n",
    "    \"\"\"\n",
    "    The KL-Divergence measures how different are two probability distributions\n",
    "    over the same variable. \n",
    "    \"\"\" \n",
    "    assert len(p) == len(q)\n",
    "    q[q == 0] = 0.00000001 # Not let any element of q be 0\n",
    "    return sum(p[i] * np.log2(p[i] / q[i]) for i in range(len(p)) if p[i] > 0)"
   ]
  },
  {
   "cell_type": "markdown",
   "metadata": {},
   "source": [
    "In this implementation, an abstract class `RBM` is defined, serving as a template for the implementations of the Contrastive Divergence (CD) and Persistent Contrastive Divergence (PCD) algorithms.\n",
    "\n",
    "#### Initialization\n",
    "\n",
    "- **Bias Matrices**: The biases for the visible and hidden layers are created.\n",
    "- **Weight Matrix**: The weight matrix `W` is defined to hold the weights connecting the layers of the RBM.\n",
    "All parameters are initialized randomly using **Xavier Initialization** to ensure balanced weight scaling.\n",
    "\n",
    "\n",
    "This is the description of the main methods implemented in this class. For more information about the algorithms behind, please reffer to the attached report.\n",
    "\n",
    "1. **Model Persistence**:\n",
    "   - `_load()`: Enables loading previously trained models.\n",
    "   - `save()`: Allows saving the current model state.\n",
    "\n",
    "2. **Abstract Method**:\n",
    "   - `fit()`: Defined as an abstract method to be implemented by subclasses of `RBM`. This method is responsible for training the RBM.\n",
    "\n",
    "3. **Implemented Methods**:\n",
    "   - **Forward Propagation**:\n",
    "     - Computes the activation probabilities of the hidden layer.\n",
    "     - Samples the expected state of the hidden layer using a binomial distribution.\n",
    "   - **Backward Propagation**:\n",
    "     - Takes the state of the hidden layer to compute the activation probabilities of the visible layer.\n",
    "     - Samples the expected state of the visible layer.\n",
    "\n",
    "   - **Gibbs Sampling**:\n",
    "      - A function that performs the forward and backward processes iteratively for \\( k \\) steps to sample the RBM.\n",
    "   - **Reconstruct**\n",
    "      - returns the reconstructed output of the RBM for a given input.\n",
    "      \n",
    "This abstract class serves as the foundation for specialized implementations of RBM training algorithms."
   ]
  },
  {
   "cell_type": "code",
   "execution_count": 40,
   "metadata": {},
   "outputs": [],
   "source": [
    "class RBM(ABC):\n",
    "    \"\"\"\n",
    "        Implementation of Restricted Boltzman Machine for\n",
    "        KISA Optimization Techniques by Sandra Burgos and\n",
    "        Alan Garcia.\n",
    "        \n",
    "        References:\n",
    "            - https://es.wikipedia.org/wiki/M%C3%A1quina_de_Boltzmann_restringida\n",
    "            - https://upcommons.upc.edu/bitstream/handle/2117/344139/TFM.pdf?sequence=2&isAllowed=y\n",
    "            - https://christian-igel.github.io/paper/TRBMAI.pdf\n",
    "    \"\"\"\n",
    "    def __init__(self, visible_nodes, hidden_nodes, k: int = 1, pretrained: str = None) -> None:\n",
    "        \"\"\"\n",
    "            n_v: number of visible nodes\n",
    "            n_h: number of hidden nodes\n",
    "            k -> Number of gibbsampling steps to be performed    \n",
    "            pretrained: path of a rbm model checkpoint to load\n",
    "\n",
    "            W -> Network weights\n",
    "            a -> Visible layer biases\n",
    "            b -> Hidden layer biases\n",
    "        \"\"\"\n",
    "        \n",
    "        if pretrained:\n",
    "            self._load(pretrained)\n",
    "        else:\n",
    "            self.n_v = visible_nodes\n",
    "            self.n_h = hidden_nodes\n",
    "            self.k = k \n",
    "    \n",
    "            # Initialize random weights from uniform distribution (Xavier initialization)\n",
    "            limit = np.sqrt(6. / (self.n_v + self.n_h))\n",
    "            self.W = np.random.uniform(low=-limit, high=limit, size=(self.n_v, self.n_h))\n",
    "            self.a = np.random.uniform(low=-limit, high=limit, size=(self.n_v)) # np.zeros((1, visible_nodes))\n",
    "            self.b = np.random.uniform(low=-limit, high=limit, size=(self.n_h)) # np.zeros((1, hidden_nodes))\n",
    "    \n",
    "    def _load(self, filename:str):\n",
    "        \"\"\"\n",
    "            Load the params from a pretrained model \n",
    "        \"\"\"\n",
    "        f = open(filename, 'rb')\n",
    "        tmp_dict = pickle.load(f)\n",
    "        f.close()          \n",
    "\n",
    "        self.__dict__.update(tmp_dict) \n",
    "\n",
    "    def save(self, filename:str):\n",
    "        \"\"\"\n",
    "            Save the model params\n",
    "        \"\"\"\n",
    "        base, ext = os.path.splitext(filename)  # Separate name and extension\n",
    "    \n",
    "        # Check if the file exists\n",
    "        i = 1\n",
    "        while os.path.exists(filename):\n",
    "            filename = f\"{base}_({i}){ext}\"\n",
    "            i += 1\n",
    "\n",
    "        f = open(filename, 'wb')\n",
    "        pickle.dump(self.__dict__, f, 2)\n",
    "        f.close()\n",
    "\n",
    "    def _forward(self, V):\n",
    "        \"\"\" \n",
    "            Fordward propagation:\n",
    "            Activation probability \n",
    "                > P(hj = 1 | v) = S (bj + sum_i=1^m(Wi,j * vi) )\n",
    "                    where S is the sigmoid function, v the visible layers set and h the hidden layers set\n",
    "                > P(h | v) = S( b + v @ W)\n",
    "        \"\"\"\n",
    "        # V: (N, visible_nodes)\n",
    "        h_p = np.dot(V, self.W) + self.b\n",
    "        h_p = sigmoid(h_p)\n",
    "        assert h_p.shape == (V.shape[0], self.n_h)\n",
    "\n",
    "        h = np.random.binomial(1, h_p, size=h_p.shape)\n",
    "        return h_p, h\n",
    "    \n",
    "    def _backward(self, H):\n",
    "        \"\"\"\n",
    "            Backward:\n",
    "            Activation probability > P(vi = 1 | h) = S (ai + sum_j=1^m(Wi,j * hj) )\n",
    "                where S is the sigmoid function, v the visible layers set and h the hidden layers set\n",
    "        \"\"\"\n",
    "        # V: (N, hidden_nodes)\n",
    "        v_p = np.dot(H, self.W.T) + self.a\n",
    "        v_p = sigmoid(v_p)\n",
    "        assert v_p.shape == (H.shape[0], self.n_v)\n",
    "\n",
    "        v = np.random.binomial(1, v_p, size=v_p.shape)\n",
    "        return v_p, v\n",
    "\n",
    "    def _gibbsampling(self, V):\n",
    "        \"\"\"\n",
    "            Perform Gibbsampling\n",
    "            OUTPUT: (h_p, h, v_p_, v_)\n",
    "                h_p: hidden layer activation probs\n",
    "                h: hidden layer samples\n",
    "                v_p_: visible layer activation probs\n",
    "                v_: visible layer reconstruction\n",
    "        \"\"\"\n",
    "        v = V\n",
    "        for i in range(self.k):\n",
    "            h_p, h = self._forward(v)\n",
    "            v_p, v = self._backward(h)\n",
    "        return h_p, h, v_p, v\n",
    "\n",
    "    @abstractmethod\n",
    "    def fit():\n",
    "        \"\"\"\n",
    "        The objective is to minimize the energy E of the system:\n",
    "            E(v, h)=-a' v - b' h - v' W h\n",
    "        So, to train the RBM we need to compute these terms:\n",
    "            ∂Energy(v, h)/∂Wij = −hi · vj\n",
    "            ∂Energy(v, h)/∂bj = −vj\n",
    "            ∂Energy(v, h)/∂ci = −hi\n",
    "        However, we don't have access to v and h but we have access\n",
    "        to ther probabilities p_v and p_h, so we have to sample from\n",
    "        P(v | h) and P(h | v)\n",
    "        But direct sampling from those distributions is hard, thats why \n",
    "        CD, PCD and other methods were developed\n",
    "        \"\"\"\n",
    "        raise NotImplemented\n",
    "\n",
    "    def reconstruct(self, X):\n",
    "        \"\"\"\n",
    "            Gibbsampling step to reconstruct output vk from v0 input.\n",
    "            OUTPUT: generated visible layer output\n",
    "        \"\"\"\n",
    "        h_p, h, v_p_, v_  = self._gibbsampling(X)\n",
    "        return v_"
   ]
  },
  {
   "cell_type": "markdown",
   "metadata": {},
   "source": [
    "To verify if the implementation of the methods is correct, a small test was conducted where an instance of `RBM_BASE` was created with the `fit()` method left unimplemented. A test input was defined as a column vector:\n",
    "\n",
    "$$\n",
    "v = \\begin{bmatrix} 0.001 \\\\ 1 \\\\ 0.001 \\\\ 1 \\end{bmatrix}\n",
    "$$\n",
    "\n",
    "This vector is passed through the `forward()` and `backward()` functions to ensure that the matrix operations are correct. Finally, the `reconstruct()` method is used to generate an output \\( v' \\).\n"
   ]
  },
  {
   "cell_type": "code",
   "execution_count": 41,
   "metadata": {},
   "outputs": [
    {
     "name": "stdout",
     "output_type": "stream",
     "text": [
      "RBM BASE TEST\n",
      "Test input shape: (1, 4) Test input: \n",
      "[[0.001 1.    0.001 1.   ]]\n",
      "rbm visible nodes: 4 hidden nodes: 4\n",
      "rbm.a biasses shape: (4,) rbm.a biasses: \n",
      "[ 0.20223002  0.41614516 -0.95883101  0.9398197 ]\n",
      "rbm.b biasses shape: (2,) rbm.b biasses: \n",
      "[ 0.66488528 -0.57532178]\n",
      "rbm.W weights shape: (4, 2) rbm.W weights: \n",
      "[[-0.25091976  0.90142861]\n",
      " [ 0.46398788  0.19731697]\n",
      " [-0.68796272 -0.68801096]\n",
      " [-0.88383278  0.73235229]]\n",
      "rbm forward shape(1, 2) rbm forward out: \n",
      "[[0.56072415 0.58772315]]\n",
      "rbm backward shape(1, 4) rbm backward out: \n",
      "[[0.64366881 0.68832114 0.1481799  0.70571312]]\n",
      "rbm reconstruct process for v input and 1 gibbsampling steps: \n",
      "[[1 1 0 0]]\n",
      "KL-Divergence between input and final RBM probability output: 7.940179085645143\n",
      "===================================\n",
      "\n"
     ]
    }
   ],
   "source": [
    "# Example data input\n",
    "v = np.array([\n",
    "    [0.001, 1, 0.001, 1]\n",
    "    ])\n",
    "\n",
    "# Instantiate the RBM test object\n",
    "class RBM_BASE(RBM):\n",
    "    def __init__(self, visible_nodes, hidden_nodes):\n",
    "        super().__init__(visible_nodes, hidden_nodes)\n",
    "    def fit():\n",
    "        # Train not implemented for just testing \n",
    "        # the vissible and hidden layers\n",
    "        pass\n",
    "rbm = RBM_BASE(4, 2)\n",
    "p_h, h = rbm._forward(v)\n",
    "\n",
    "print(\"RBM BASE TEST\")\n",
    "print(f\"Test input shape: {v.shape} Test input: \\n{v}\")\n",
    "print(f\"rbm visible nodes: {rbm.n_v} hidden nodes: {rbm.n_v}\")\n",
    "print(f\"rbm.a biasses shape: {rbm.a.shape} rbm.a biasses: \\n{rbm.a}\")\n",
    "print(f\"rbm.b biasses shape: {rbm.b.shape} rbm.b biasses: \\n{rbm.b}\")\n",
    "print(f\"rbm.W weights shape: {rbm.W.shape} rbm.W weights: \\n{rbm.W}\")\n",
    "print(f\"rbm forward shape{p_h.shape} rbm forward out: \\n{p_h}\")\n",
    "\n",
    "p_v, v = rbm._backward(p_h)\n",
    "print(f\"rbm backward shape{p_v.shape} rbm backward out: \\n{p_v}\")\n",
    "\n",
    "v_ = rbm.reconstruct(v)\n",
    "print(f\"rbm reconstruct process for v input and {rbm.k} gibbsampling steps: \\n{v_}\")\n",
    "    \n",
    "# The goal is to reduce the divergence between the input probability\n",
    "# dsitribution and the output. \n",
    "# v = np.array([1, 0.001, 0.001, 1])\n",
    "# v_ = np.array([1, 1, 1, 1])\n",
    "# kld = 0.98860 >> 0 -> significant divergence\n",
    "kld = kl_divergence(v.flatten() / np.sum(v.flatten()), v_.flatten() / np.sum(v_.flatten()))\n",
    "print(f\"KL-Divergence between input and final RBM probability output: {kld}\")\n",
    "print(\"===================================\")\n",
    "print()"
   ]
  },
  {
   "cell_type": "markdown",
   "metadata": {},
   "source": [
    "As can be observed, the reconstructed output deviates significantly from the input, indicating that the two distributions (input and output) differ considerably. The reconstructed output is:\n",
    "\n",
    "$$\n",
    "v' = \\begin{bmatrix} 1 \\\\ 1 \\\\ 0 \\\\ 0 \\end{bmatrix}\n",
    "$$\n",
    "\n",
    "and a KL-Divergence of 7.940."
   ]
  },
  {
   "cell_type": "markdown",
   "metadata": {},
   "source": [
    "## RBM Contrastive Divergence"
   ]
  },
  {
   "cell_type": "markdown",
   "metadata": {},
   "source": [
    "Here is the implementation of the Contrastive Divergence algorithm for training Restricted Boltzmann Machines (RBMs). \n",
    "\n",
    "The `RBM_CD` class extends the previously implemented abstract `RBM` class, inheriting all its methods. However, in this class, the `fit()` method is implemented. \n",
    "\n",
    "**Overview of the `fit()` Method**\n",
    "\n",
    "The `fit()` method defines the training loop for the RBM and returns a list of errors for each training epoch. For each epoch:\n",
    "\n",
    "1. A list of batches is generated from the training dataset. \n",
    "2. During each iteration, the weights of the RBM are updated using the Contrastive Divergence algorithm. \n",
    "\n",
    "**Contrastive Divergence Implementation**\n",
    "\n",
    "The Contrastive Divergence algorithm is implemented in the private method `_contrastive_divergence()`. This method carries out the positive and negative phases of the algorithm:\n",
    "\n",
    "- **Positive Phase**: \n",
    "  - The input is taken.\n",
    "  - The activation probabilities are calculated.\n",
    "\n",
    "- **Negative Phase**: \n",
    "  - Gibbs sampling is performed.\n",
    "  - The expected state of the visible layer is computed.\n",
    "\n",
    "This training process refines the weights of the RBM to approximate the underlying data distribution effectively."
   ]
  },
  {
   "cell_type": "code",
   "execution_count": 42,
   "metadata": {},
   "outputs": [],
   "source": [
    "class RBM_CD(RBM):\n",
    "    def __init__(self, visible_nodes, hidden_nodes, k: int = 1, pretrained: str = None) -> None:\n",
    "       super().__init__(visible_nodes, hidden_nodes, k, pretrained)\n",
    "    \n",
    "    def _contrastive_divergence(self, batch, batch_size, lr):  \n",
    "        \"\"\"\n",
    "            K-Step Contrastive Divergence Algorithm\n",
    "        \"\"\"      \n",
    "        v = batch\n",
    "        h_p, h, v_p_, v_ = self._gibbsampling(v)\n",
    "        h_p_, h_ = self._forward(v_)\n",
    "        \n",
    "        # v_p_, v_, h_p_ and h_ are on the negative phase\n",
    "        possitive_association = np.dot(v.T, h_p)\n",
    "        negative_association = np.dot(v_.T, h_p_)\n",
    "        \n",
    "        \n",
    "        # Update the parameters\n",
    "        # W += lr * (possitive_associations - negative_associations)\n",
    "        # possitive_associations = v • p_v\n",
    "        # negative_associations = vk • p_vk\n",
    "        self.W += lr * (possitive_association - negative_association) / batch_size\n",
    "        self.a += lr * np.mean(v - v_, axis=0)\n",
    "        self.b += lr * np.mean(h_p - h_p_, axis=0)\n",
    "        \n",
    "        #Compute loss for the instance\n",
    "        error = np.sum((v - v_)**2) / batch_size\n",
    "        return error\n",
    "   \n",
    "    def fit(self, X, epochs = 10, batch_dim = 32, lr = 0.01, verbose = False) -> list:\n",
    "        \"\"\"\n",
    "             Train the RBM using Contrastive Divergence\n",
    "        \"\"\"\n",
    "        train_errors = []\n",
    "        for epoch in range(epochs):\n",
    "            t_error = 0.0\n",
    "            train_num = X.shape[0]\n",
    "            batches = list(gen_batches(train_num, batch_dim))\n",
    "            for batch in batches:\n",
    "                batch = X[batch.start:batch.stop]\n",
    "                batch_size = batch.shape[0]\n",
    "\n",
    "                error = self._contrastive_divergence(batch, batch_size, lr)\n",
    "                t_error += error\n",
    "            \n",
    "            t_error /= len(batches)\n",
    "            train_errors.append(t_error)\n",
    "            if verbose:\n",
    "                print(f\"epoch: {epoch}/{epochs} \\t{'error:'} {t_error}\")\n",
    "        \n",
    "        return train_errors"
   ]
  },
  {
   "cell_type": "markdown",
   "metadata": {},
   "source": [
    "To verify that the implementation of the `fit()` method is correct, an instance `v` was defined and the method was executed. However, the result of the generation is quite random. While it shows some improvements compared to the untrained version, it is not a sufficiently significant sample to conclude that the model is not functioning correctly."
   ]
  },
  {
   "cell_type": "code",
   "execution_count": 43,
   "metadata": {},
   "outputs": [
    {
     "name": "stdout",
     "output_type": "stream",
     "text": [
      "RBM CD TEST\n",
      "Test input shape: (1, 10) Test input: \n",
      "[[0 1 0 1 0 1 0 1 0 1]]\n",
      "Num epochs: 10\n",
      "rbm visible nodes: 10 hidden nodes: 10\n",
      "rbm k-step: 1 rbm learning rate: 0.01\n",
      "Initial weights matrix ((10, 10)): \n",
      "[[-0.32899089  0.01559305  0.10123509 -0.49683868  0.11780948 -0.36092274\n",
      "  -0.47646211  0.49172947  0.51007434  0.33783237]\n",
      " [-0.21403489 -0.44072812  0.20181717 -0.06555966 -0.41403637 -0.00528343\n",
      "  -0.51005182  0.44838803 -0.26424329  0.17803424]\n",
      " [-0.20626018  0.02198342  0.05116855 -0.34522465  0.51440419  0.30139291\n",
      "   0.48144697  0.43251169  0.10724405  0.46214007]\n",
      " [-0.45078388 -0.33303409 -0.49817854 -0.19134104 -0.12194792 -0.25047459\n",
      "   0.3601139  -0.15691887 -0.23997422  0.04677122]\n",
      " [-0.3933478   0.33104021 -0.46605642  0.53335792  0.2982292  -0.33004043\n",
      "  -0.54167338  0.34557068  0.22660087  0.25086478]\n",
      " [ 0.29716178 -0.46661071 -0.15504303 -0.42079436  0.39775987  0.13506633\n",
      "  -0.18524193 -0.47809787 -0.20705849 -0.19150208]\n",
      " [ 0.25152097  0.15068666  0.42417031 -0.03043702 -0.41671363  0.23359796\n",
      "   0.28567571  0.06712581  0.29682967 -0.00679658]\n",
      " [ 0.02490257 -0.07937484 -0.5198773  -0.42953342 -0.51329361  0.14943012\n",
      "  -0.20336283  0.00938872  0.4464667  -0.2746366 ]\n",
      " [-0.09817059  0.27994225 -0.29708672 -0.46339529 -0.23031574 -0.37111349\n",
      "   0.47071019  0.33752896  0.14613649  0.40691469]\n",
      " [ 0.33265609 -0.3433453   0.43002684  0.04309727  0.33678382  0.43389628\n",
      "  -0.1993672  -0.42716671 -0.2980321  -0.07984942]]\n",
      "epoch: 0/10 \terror: 2.0\n",
      "epoch: 1/10 \terror: 5.0\n",
      "epoch: 2/10 \terror: 5.0\n",
      "epoch: 3/10 \terror: 3.0\n",
      "epoch: 4/10 \terror: 7.0\n",
      "epoch: 5/10 \terror: 6.0\n",
      "epoch: 6/10 \terror: 6.0\n",
      "epoch: 7/10 \terror: 2.0\n",
      "epoch: 8/10 \terror: 3.0\n",
      "epoch: 9/10 \terror: 4.0\n",
      "Final weights matrix ((10, 10)): \n",
      "[[-0.33518897  0.00586952  0.09400555 -0.50485473  0.10511654 -0.36777179\n",
      "  -0.48396811  0.47811267  0.4985719   0.32637096]\n",
      " [-0.18195692 -0.43495767  0.21686129 -0.04341184 -0.37877414  0.0311633\n",
      "  -0.49473549  0.45895228 -0.2495095   0.19051691]\n",
      " [-0.21489166  0.01414914  0.0418708  -0.35130403  0.49952746  0.29210536\n",
      "   0.46984819  0.42127216  0.09915306  0.44995525]\n",
      " [-0.41098805 -0.32430929 -0.47516697 -0.16375982 -0.08360776 -0.20587419\n",
      "   0.3765     -0.14098774 -0.21972746  0.06179676]\n",
      " [-0.40511928  0.31216032 -0.47405309  0.51626909  0.2786878  -0.33891358\n",
      "  -0.55292658  0.32812323  0.2093538   0.236272  ]\n",
      " [ 0.31448447 -0.47148673 -0.14502638 -0.40814454  0.41637445  0.16121871\n",
      "  -0.18017529 -0.47062923 -0.20161172 -0.18387213]\n",
      " [ 0.23848765  0.14445844  0.41386945 -0.03866902 -0.4257196   0.22088093\n",
      "   0.2790092   0.05893655  0.28727509 -0.01288377]\n",
      " [ 0.05505557 -0.07601626 -0.50099385 -0.40818945 -0.47815051  0.18580469\n",
      "  -0.18541982  0.02265482  0.45714379 -0.25817546]\n",
      " [-0.1244894   0.25265375 -0.31829079 -0.4886631  -0.26979646 -0.39460257\n",
      "   0.43929123  0.30761438  0.12107402  0.3760416 ]\n",
      " [ 0.35968231 -0.34164572  0.44262403  0.0631026   0.3619848   0.46603971\n",
      "  -0.19244151 -0.41894601 -0.28600058 -0.07299931]]\n",
      "rbm reconstruct process for v after training with 1 gibbsampling steps: \n",
      "[[1 1 1 0 0 1 1 0 0 0]]\n",
      "KL-Divergence between input and final RBM probability output: 14.552097998526921\n",
      "===================================\n"
     ]
    }
   ],
   "source": [
    "# Example data batch (size 1 instance)\n",
    "v = np.array([[0, 1, 0, 1, 0, 1, 0, 1, 0, 1]])\n",
    "epochs = 10\n",
    "learning_rate = 0.01\n",
    "\n",
    "# Instantiate the RBM\n",
    "rbm = RBM_CD(v.shape[1], 10, k=1)\n",
    "# Test\n",
    "print(\"RBM CD TEST\")\n",
    "print(f\"Test input shape: {v.shape} Test input: \\n{v}\")\n",
    "print(f\"Num epochs: {epochs}\")\n",
    "print(f\"rbm visible nodes: {rbm.n_v} hidden nodes: {rbm.n_v}\")\n",
    "print(f\"rbm k-step: {rbm.k} rbm learning rate: {learning_rate}\")\n",
    "print(f\"Initial weights matrix ({rbm.W.shape}): \\n{rbm.W}\")\n",
    "\n",
    "rbm.fit(v, epochs=epochs, batch_dim=1, lr=learning_rate, verbose=True)\n",
    "\n",
    "print(f\"Final weights matrix ({rbm.W.shape}): \\n{rbm.W}\")\n",
    "v_ = rbm.reconstruct(v)\n",
    "print(f\"rbm reconstruct process for v after training with {rbm.k} gibbsampling steps: \\n{v_}\")\n",
    "\n",
    "kld = kl_divergence(v.flatten() / np.sum(v.flatten()), v_.flatten() / np.sum(v_.flatten()))\n",
    "print(f\"KL-Divergence between input and final RBM probability output: {kld}\")\n",
    "print(\"===================================\")"
   ]
  },
  {
   "cell_type": "markdown",
   "metadata": {},
   "source": [
    "### XOR Function Modeling With CD RMB"
   ]
  },
  {
   "cell_type": "markdown",
   "metadata": {},
   "source": [
    "Let's attempt to model an XOR logic gate using the Contrastive Divergence RBM that we have already implemented.\n",
    "\n",
    "**Steps:**\n",
    "1. **Training Set**: We will define the training set as all possible inputs and outputs of the XOR gate.\n",
    "2. **Testing the Model**: After training, we will test the RBM by providing an impossible input for the XOR logic and observe if the reconstructed input follows the internal distribution of the XOR gate.\n",
    "\n",
    "**Hypothesis:**\n",
    "The hypothesis here is that since the Restricted Boltzmann Machine (RBM) has the ability to learn the distribution of a given dataset, when it is exposed to data that it hasn't seen before, it will try to adapt that input to its already learned distribution. This means the RBM should attempt to map the impossible input to the closest possible distribution that aligns with what it has learned from the XOR gate."
   ]
  },
  {
   "cell_type": "markdown",
   "metadata": {},
   "source": [
    "Here we define the train set and the model's hyperparameters:"
   ]
  },
  {
   "cell_type": "code",
   "execution_count": 44,
   "metadata": {},
   "outputs": [],
   "source": [
    "# Train data\n",
    "xor_logic = np.array([\n",
    "    [0, 0, 1],\n",
    "    [0, 1, 0],\n",
    "    [1, 0, 0],\n",
    "    [1, 1, 1],\n",
    "])\n",
    "# \n",
    "# Hyperparameters\n",
    "k_gibbs_steps   = 1\n",
    "learning_rate   = 0.0001\n",
    "hidden_nodes    = 2     # Number of visible nodes are the input shape\n",
    "epochs          = 10    # Number of epochs"
   ]
  },
  {
   "cell_type": "code",
   "execution_count": 45,
   "metadata": {},
   "outputs": [
    {
     "name": "stdout",
     "output_type": "stream",
     "text": [
      "RBM CD FUNCTION APROXIMATION TEST\n",
      "XOR logic set shape: (4, 3)\t XOR logic:\n",
      "[[0 0 1]\n",
      " [0 1 0]\n",
      " [1 0 0]\n",
      " [1 1 1]]\n",
      "rbm visible nodes: 3 hidden nodes: 3\n",
      "rbm.a biasses shape: (3,) rbm.a biasses: \n",
      "[-1.00088649  0.85695163  0.06069009]\n",
      "rbm.b biasses shape: (2,) rbm.b biasses: \n",
      "[ 1.08003176 -0.93376494]\n",
      "rbm.W weights shape: (3, 2) rbm.W weights: \n",
      "[[-0.4694813   0.80756023]\n",
      " [-0.60557118  1.01486974]\n",
      " [-1.068816    1.02945293]]\n"
     ]
    }
   ],
   "source": [
    "# Instantiate the RBM object\n",
    "rbm = RBM_CD(xor_logic.shape[1], hidden_nodes, k=k_gibbs_steps)\n",
    "\n",
    "# Print some information about the matrix shapes\n",
    "print(\"RBM CD FUNCTION APROXIMATION TEST\")\n",
    "print(f\"XOR logic set shape: {xor_logic.shape}\\t XOR logic:\\n{xor_logic}\")\n",
    "print(f\"rbm visible nodes: {rbm.n_v} hidden nodes: {rbm.n_v}\")\n",
    "print(f\"rbm.a biasses shape: {rbm.a.shape} rbm.a biasses: \\n{rbm.a}\")\n",
    "print(f\"rbm.b biasses shape: {rbm.b.shape} rbm.b biasses: \\n{rbm.b}\")\n",
    "print(f\"rbm.W weights shape: {rbm.W.shape} rbm.W weights: \\n{rbm.W}\")"
   ]
  },
  {
   "cell_type": "code",
   "execution_count": 46,
   "metadata": {},
   "outputs": [
    {
     "name": "stdout",
     "output_type": "stream",
     "text": [
      "Final rbm.a biasses: \n",
      "[-1.00008649  0.85555163  0.06079009]\n",
      "Final rbm.b biasses: \n",
      "[ 1.08013092 -0.93395233]\n",
      "Final rbm.W weights: \n",
      "[[-0.46907375  0.80801641]\n",
      " [-0.606255    1.01396361]\n",
      " [-1.0687006   1.02938664]]\n"
     ]
    }
   ],
   "source": [
    "rbm.fit(xor_logic, epochs=epochs, batch_dim=1, lr=learning_rate)\n",
    "\n",
    "print(f\"Final rbm.a biasses: \\n{rbm.a}\")\n",
    "print(f\"Final rbm.b biasses: \\n{rbm.b}\")\n",
    "print(f\"Final rbm.W weights: \\n{rbm.W}\")"
   ]
  },
  {
   "cell_type": "markdown",
   "metadata": {},
   "source": [
    "Here `v` is an impossible state of a XOR logic gate were `x1 = x2 = 1` and the output is `y = 0` where it should be `y = 1`"
   ]
  },
  {
   "cell_type": "code",
   "execution_count": 47,
   "metadata": {},
   "outputs": [
    {
     "name": "stdout",
     "output_type": "stream",
     "text": [
      "Impossible inut: [[1 1 0]]\n",
      "Reconstructed output: [[1 1 1]]\n"
     ]
    }
   ],
   "source": [
    "# Recontruction\n",
    "v = np.array([[1, 1, 0]]) # This is not possible for XOR function\n",
    "v_ = rbm.reconstruct(v)\n",
    "print(f\"Impossible inut: {v}\") \n",
    "print(f\"Reconstructed output: {v_}\")"
   ]
  },
  {
   "cell_type": "code",
   "execution_count": 48,
   "metadata": {},
   "outputs": [
    {
     "data": {
      "image/png": "[encoded data removed]",
      "text/plain": [
       "<Figure size 640x480 with 1 Axes>"
      ]
     },
     "metadata": {},
     "output_type": "display_data"
    }
   ],
   "source": [
    "# Plot the results with matplotlib\n",
    "grt_color_map = { 0: \"blue\", 1: \"red\" } # Ground_truth color map\n",
    "rbm_color_map = { 0: \"blue\", 1: \"red\" } # RBM prediction color map\n",
    "\n",
    "# Ground truth\n",
    "grt_xor_0 = xor_logic[xor_logic[:, 2] == 0]\n",
    "grt_xor_1 = xor_logic[xor_logic[:, 2] == 1]\n",
    "plt.scatter(grt_xor_0[:, 0], grt_xor_0[:, 1], s = 100, color = grt_color_map[0], label = \"grt y = 0\", )\n",
    "plt.scatter(grt_xor_1[:, 0], grt_xor_1[:, 1], s = 100, color = grt_color_map[1], label = \"grt y = 1\", )\n",
    "    \n",
    "# Reconstruction    \n",
    "plt.scatter(v[:, 0], v[:, 1], s = 150, color = \"black\", label = \"Impossible for XOR\", alpha=0.6)\n",
    "plt.scatter(v_[:, 0], v_[:, 1], s = 150, color = \"green\", label = \"Reconstructed by RBM\", alpha=0.6)\n",
    "\n",
    "# Show\n",
    "plt.xlabel(\"x1\")\n",
    "plt.ylabel(\"x2\")\n",
    "plt.title(\"RBM XOR Logic Gate\")\n",
    "plt.grid()\n",
    "plt.legend()\n",
    "plt.show()"
   ]
  },
  {
   "cell_type": "markdown",
   "metadata": {},
   "source": [
    "As we can observe, when an impossible input is given to the RBM trained to follow an XOR distribution, it generates an output similar to the input but one that does follow the XOR distribution."
   ]
  },
  {
   "cell_type": "markdown",
   "metadata": {},
   "source": [
    "### MNIST Data Reconstruction With CD RBM"
   ]
  },
  {
   "cell_type": "markdown",
   "metadata": {},
   "source": [
    "In this example, we will train the Contrastive Divergence RBM using images from the MNIST dataset. After training, we will compare the images from the training set with their corresponding reconstructions generated by the RBM.\n",
    "\n",
    "The goal is to observe how well the RBM can reconstruct handwritten digits from the MNIST dataset and evaluate its ability to learn the underlying distribution of these images."
   ]
  },
  {
   "cell_type": "code",
   "execution_count": 49,
   "metadata": {},
   "outputs": [
    {
     "name": "stdout",
     "output_type": "stream",
     "text": [
      "RBM CD MNIST RECONSTRUCTION TEST\n",
      "Hyperparameters:\n",
      "\tX_train instances: 60000\tX_test instances: 10000\n",
      "\tbatch size: 64\tepochs: 100\tlearning rate: 0.1\n",
      "\tvisible nodes: 784\thidden nodes:30\n"
     ]
    }
   ],
   "source": [
    "# Hyperparameters\n",
    "k = 1\n",
    "batch_size    = 64\n",
    "learning_rate = 0.1\n",
    "hidden_nodes  = 30      # Number of visible nodes are the input shape\n",
    "epochs        = 100     # Number of epochs\n",
    "\n",
    "print(\"RBM CD MNIST RECONSTRUCTION TEST\")\n",
    "print(f\"Hyperparameters:\")\n",
    "print(f\"\\tX_train instances: {X_train.shape[0]}\\tX_test instances: {X_test.shape[0]}\")\n",
    "print(f\"\\tbatch size: {batch_size}\\tepochs: {epochs}\\tlearning rate: {learning_rate}\")\n",
    "print(f\"\\tvisible nodes: {X_train.shape[1]}\\thidden nodes:{hidden_nodes}\")"
   ]
  },
  {
   "cell_type": "code",
   "execution_count": 50,
   "metadata": {},
   "outputs": [
    {
     "name": "stdout",
     "output_type": "stream",
     "text": [
      "Train:\n",
      "epoch: 0/100 \terror: 102.51329291044776\n",
      "epoch: 1/100 \terror: 82.2802005597015\n",
      "epoch: 2/100 \terror: 78.27970082622602\n",
      "epoch: 3/100 \terror: 76.36700426439232\n",
      "epoch: 4/100 \terror: 75.39463952558636\n",
      "epoch: 5/100 \terror: 74.90078624733475\n",
      "epoch: 6/100 \terror: 74.53739672174841\n",
      "epoch: 7/100 \terror: 74.29980676972282\n",
      "epoch: 8/100 \terror: 74.02935101279317\n",
      "epoch: 9/100 \terror: 73.80755263859275\n",
      "epoch: 10/100 \terror: 73.71455223880596\n",
      "epoch: 11/100 \terror: 73.60289512260128\n",
      "epoch: 12/100 \terror: 73.52047241471216\n",
      "epoch: 13/100 \terror: 73.41871002132196\n",
      "epoch: 14/100 \terror: 73.36493869936034\n",
      "epoch: 15/100 \terror: 73.31907982409382\n",
      "epoch: 16/100 \terror: 73.25061633795309\n",
      "epoch: 17/100 \terror: 73.20775586353945\n",
      "epoch: 18/100 \terror: 73.09340018656717\n",
      "epoch: 19/100 \terror: 73.00079957356077\n",
      "epoch: 20/100 \terror: 72.92873800639659\n",
      "epoch: 21/100 \terror: 72.82357742537313\n",
      "epoch: 22/100 \terror: 72.74386993603412\n",
      "epoch: 23/100 \terror: 72.7013592750533\n",
      "epoch: 24/100 \terror: 72.56303304904051\n",
      "epoch: 25/100 \terror: 72.46590151918977\n",
      "epoch: 26/100 \terror: 72.38890924840085\n",
      "epoch: 27/100 \terror: 72.338552771855\n",
      "epoch: 28/100 \terror: 72.23130996801706\n",
      "epoch: 29/100 \terror: 72.09986340618337\n",
      "epoch: 30/100 \terror: 71.94044842750533\n",
      "epoch: 31/100 \terror: 71.91717750533049\n",
      "epoch: 32/100 \terror: 71.73925573027718\n",
      "epoch: 33/100 \terror: 71.64607209488273\n",
      "epoch: 34/100 \terror: 71.5453091684435\n",
      "epoch: 35/100 \terror: 71.37921441897655\n",
      "epoch: 36/100 \terror: 71.2890625\n",
      "epoch: 37/100 \terror: 71.1633295575693\n",
      "epoch: 38/100 \terror: 71.01039445628997\n",
      "epoch: 39/100 \terror: 70.96002132196162\n",
      "epoch: 40/100 \terror: 70.89222414712154\n",
      "epoch: 41/100 \terror: 70.80523720682302\n",
      "epoch: 42/100 \terror: 70.70657316098081\n",
      "epoch: 43/100 \terror: 70.61638792643923\n",
      "epoch: 44/100 \terror: 70.39503931236673\n",
      "epoch: 45/100 \terror: 70.29814099147121\n",
      "epoch: 46/100 \terror: 70.27665245202559\n",
      "epoch: 47/100 \terror: 70.17289112473348\n",
      "epoch: 48/100 \terror: 70.09185101279317\n",
      "epoch: 49/100 \terror: 70.06764725479744\n",
      "epoch: 50/100 \terror: 69.89124133795309\n",
      "epoch: 51/100 \terror: 69.82092883795309\n",
      "epoch: 52/100 \terror: 69.73127665245202\n",
      "epoch: 53/100 \terror: 69.74223747334754\n",
      "epoch: 54/100 \terror: 69.62696561833688\n",
      "epoch: 55/100 \terror: 69.5829224413646\n",
      "epoch: 56/100 \terror: 69.53899586886993\n",
      "epoch: 57/100 \terror: 69.58670375799574\n",
      "epoch: 58/100 \terror: 69.53779650852879\n",
      "epoch: 59/100 \terror: 69.40623334221749\n",
      "epoch: 60/100 \terror: 69.3556269989339\n",
      "epoch: 61/100 \terror: 69.38084688166312\n",
      "epoch: 62/100 \terror: 69.39045842217485\n",
      "epoch: 63/100 \terror: 69.32955756929637\n",
      "epoch: 64/100 \terror: 69.2969749466951\n",
      "epoch: 65/100 \terror: 69.30048973880596\n",
      "epoch: 66/100 \terror: 69.23305903518124\n",
      "epoch: 67/100 \terror: 69.2010427771855\n",
      "epoch: 68/100 \terror: 69.18126998933901\n",
      "epoch: 69/100 \terror: 69.07121202025586\n",
      "epoch: 70/100 \terror: 69.1464552238806\n",
      "epoch: 71/100 \terror: 69.07352745202559\n",
      "epoch: 72/100 \terror: 69.03050039978677\n",
      "epoch: 73/100 \terror: 69.02783515458422\n",
      "epoch: 74/100 \terror: 68.97527985074628\n",
      "epoch: 75/100 \terror: 68.92185834221749\n",
      "epoch: 76/100 \terror: 68.96826692430703\n",
      "epoch: 77/100 \terror: 68.90335154584221\n",
      "epoch: 78/100 \terror: 68.88471148720683\n",
      "epoch: 79/100 \terror: 68.95000999466951\n",
      "epoch: 80/100 \terror: 68.85357809168444\n",
      "epoch: 81/100 \terror: 68.76637460021323\n",
      "epoch: 82/100 \terror: 68.77735207889125\n",
      "epoch: 83/100 \terror: 68.77388726012794\n",
      "epoch: 84/100 \terror: 68.67537313432835\n",
      "epoch: 85/100 \terror: 68.66018123667378\n",
      "epoch: 86/100 \terror: 68.68002065565032\n",
      "epoch: 87/100 \terror: 68.59871401918977\n",
      "epoch: 88/100 \terror: 68.58613739339019\n",
      "epoch: 89/100 \terror: 68.55535381130063\n",
      "epoch: 90/100 \terror: 68.57257795842217\n",
      "epoch: 91/100 \terror: 68.62263459488273\n",
      "epoch: 92/100 \terror: 68.65778251599147\n",
      "epoch: 93/100 \terror: 68.56594816098081\n",
      "epoch: 94/100 \terror: 68.5524053837953\n",
      "epoch: 95/100 \terror: 68.52388726012794\n",
      "epoch: 96/100 \terror: 68.50469749466951\n",
      "epoch: 97/100 \terror: 68.57226146055437\n",
      "epoch: 98/100 \terror: 68.57276119402985\n",
      "epoch: 99/100 \terror: 68.57560967484008\n"
     ]
    }
   ],
   "source": [
    "# Initialize RBM with 30 hidden units and train it for 100 epochs\n",
    "rbm = RBM_CD(visible_nodes=X_train.shape[1], hidden_nodes=hidden_nodes, k=k)\n",
    "# # Load a pretrained model\n",
    "# model_path = \"./models/RBM_CD_e100_bt64_lr0.1_hn30_k1.pt\"\n",
    "# rbm = RBM_CD(None, None, pretrained= model_path)\n",
    "\n",
    "print(\"Train:\")\n",
    "train_loss1 = rbm.fit(X_train, epochs=epochs, batch_dim=batch_size, lr=learning_rate, verbose=True)\n",
    "# rbm.save(f\"./models/RBM_CD_e{epochs}_bt{batch_size}_lr{learning_rate}_hn{hidden_nodes}_k{k}.pt\")"
   ]
  },
  {
   "cell_type": "code",
   "execution_count": 51,
   "metadata": {},
   "outputs": [
    {
     "data": {
      "image/png": "[encoded data removed]",
      "text/plain": [
       "<Figure size 640x480 with 1 Axes>"
      ]
     },
     "metadata": {},
     "output_type": "display_data"
    }
   ],
   "source": [
    "plt.plot(range(len(train_loss1)), train_loss1, color = \"blue\", label = \"train loss\")\n",
    "plt.xlabel(\"Epoch\")\n",
    "plt.ylabel(\"Loss\")\n",
    "plt.title(\"CD RBM Train Error\")\n",
    "plt.legend()\n",
    "plt.show()"
   ]
  },
  {
   "cell_type": "markdown",
   "metadata": {},
   "source": [
    "Perform the RBM reconstruction over a restricted set from the `test_set` where there is one example of each label and then show the results"
   ]
  },
  {
   "cell_type": "code",
   "execution_count": 52,
   "metadata": {},
   "outputs": [
    {
     "data": {
      "image/png": "[encoded data removed]",
      "text/plain": [
       "<Figure size 3000x600 with 20 Axes>"
      ]
     },
     "metadata": {},
     "output_type": "display_data"
    }
   ],
   "source": [
    "# reconstruction\n",
    "digit_indices = [np.where(Y_test == i)[0][0] for i in range(10)]\n",
    "resticted_set = X_test[digit_indices]\n",
    "\n",
    "reconstructed = rbm.reconstruct(resticted_set)\n",
    "\n",
    "# show 10 sample images\n",
    "rows = 2\n",
    "columns = 10\n",
    "\n",
    "fig, axes = plt.subplots(rows, columns,sharey = True,figsize=(30, 6))\n",
    "for i in range(rows):\n",
    "    for j in range(columns):\n",
    "        if i==0:\n",
    "          axes[i, j].imshow(resticted_set[j].reshape(28, 28))\n",
    "        else:\n",
    "          axes[i, j].imshow(reconstructed[j].reshape(28, 28))\n",
    "\n",
    "        axes[i, j].tick_params(left = False, right = False , labelleft = False,\n",
    "                labelbottom = False, bottom = False)\n",
    "\n",
    "axes[0, 0].set_ylabel(\"ACTUAL\", fontsize=12)\n",
    "axes[1, 0].set_ylabel(\"REC.\", fontsize=12)\n",
    "plt.show()"
   ]
  },
  {
   "cell_type": "markdown",
   "metadata": {},
   "source": [
    "It is also iteresting to show the evolution of the loss on the train set and the evaluation error on the test set. For this reason we have implemented the train and eval loops for each epoch as shown here: "
   ]
  },
  {
   "cell_type": "code",
   "execution_count": 53,
   "metadata": {},
   "outputs": [],
   "source": [
    "# It takes a little bit to run. \n",
    "# We have set the number of epochs of this experiment to 10 as it\n",
    "# is just to see the evolution, not a full training\n",
    "def show_trloss_evloss(X_train, X_test, epochs, batch_dim, lr):\n",
    "    test_rbm = RBM_CD(visible_nodes=X_train.shape[1], hidden_nodes=hidden_nodes, k=k)\n",
    "    train_errors = []\n",
    "    eval_errors = []\n",
    "\n",
    "    for _ in range(epochs):\n",
    "        def train_loop(X, batch_dim, lr):\n",
    "            train_num = X.shape[0]\n",
    "            batches = list(gen_batches(train_num, batch_dim))\n",
    "            t_error = 0.0\n",
    "            for batch in batches:\n",
    "                batch = X[batch.start:batch.stop]\n",
    "                batch_size = batch.shape[0]\n",
    "                error = test_rbm._contrastive_divergence(batch, batch_size, lr)\n",
    "                t_error += error\n",
    "        \n",
    "            return t_error / len(batches)\n",
    "        def test_loop(X):\n",
    "            x_ = test_rbm.reconstruct(X)\n",
    "            return np.sum((X - x_)**2) / X.shape[0]\n",
    "\n",
    "        train_errors.append(train_loop(X_train, batch_dim, lr))\n",
    "        eval_errors.append(test_loop(X_test))\n",
    "\n",
    "    return train_errors, eval_errors\n",
    "\n",
    "train_loss1, test_loss1 = show_trloss_evloss(X_train, X_test, 10, 64, 0.1)"
   ]
  },
  {
   "cell_type": "code",
   "execution_count": 54,
   "metadata": {},
   "outputs": [
    {
     "data": {
      "image/png": "[encoded data removed]",
      "text/plain": [
       "<Figure size 640x480 with 1 Axes>"
      ]
     },
     "metadata": {},
     "output_type": "display_data"
    }
   ],
   "source": [
    "plt.plot(range(len(train_loss1)), train_loss1, color = \"blue\", label = \"train loss\")\n",
    "plt.plot(range(len(test_loss1)), test_loss1, color = \"red\", label = \"test loss\")\n",
    "plt.xlabel(\"Epoch\")\n",
    "plt.ylabel(\"Loss\")\n",
    "plt.title(\"CD RBM Train Error\")\n",
    "plt.legend()\n",
    "plt.show()"
   ]
  },
  {
   "cell_type": "markdown",
   "metadata": {},
   "source": [
    "### MNIST Number Generator With CD RBM"
   ]
  },
  {
   "cell_type": "markdown",
   "metadata": {},
   "source": [
    "The main idea is to train an RBM with image data and the encoded labels, and then, given just the label, generate the corresponding number. This approach is similar to the XOR application described earlier, but instead of providing an impossible input, we provide the label of the number image we want to generate.\n",
    "\n",
    "To achieve this, a new class `MNIST_RBM_CD` is defined, which extends the `RBM_CD` class. The `fit()` method is overloaded in this class with the following objectives:\n",
    "\n",
    "1. **Data Preparation**: The training data and their corresponding labels are encoded using one-hot encoding.\n",
    "2. **Training**: The RBM is trained with the encoded image-label pairs.\n",
    "\n",
    "Additionally, a new function `generate_MNIST_image()` has been implemented. This function takes a number between 0 and 9 as input and attempts to generate the corresponding image based on the trained RBM.\n",
    "\n",
    "The goal is to explore how well the RBM can generate MNIST-like images when provided with a label, showcasing the model's ability to learn both image data and label relationships."
   ]
  },
  {
   "cell_type": "code",
   "execution_count": 55,
   "metadata": {},
   "outputs": [],
   "source": [
    "class MNIST_RBM_CD(RBM_CD):\n",
    "    num_labels = 10\n",
    "    def __init__(self, visible_nodes, hidden_nodes, k: int = 1, pretrained: str = None) -> None:\n",
    "        super().__init__(visible_nodes + self.num_labels, hidden_nodes, k, pretrained)\n",
    "\n",
    "    def fit(self, X, Y, epochs=10, batch_dim=32, lr=0.01, verbose=False) -> list:\n",
    "        \"\"\"\n",
    "            Train a RBM using the Contrastive Divergence algorithm for generating MNIST\n",
    "            images with a given label.\n",
    "\n",
    "            X: image data (N, d) where d is 32x32\n",
    "            Y: label data (N, 1) it goes [0, 9]\n",
    "\n",
    "            The key is to encode the Y labels as binary and add to each instance of X\n",
    "        \"\"\"\n",
    "\n",
    "        # One-Hot encoding for the Y labels\n",
    "        encoded = np.zeros((Y.size, self.num_labels))\n",
    "        encoded[np.arange(Y.size), Y] = 1\n",
    "        \n",
    "        # Add the encoded matrix to the image data matrix\n",
    "        X = np.concatenate((X, encoded), axis=1)\n",
    "\n",
    "        # Train the RBM and return the train loss\n",
    "        return super().fit(X, epochs, batch_dim, lr, verbose)\n",
    "    \n",
    "    def generate_MNIST_image(self, number: int):\n",
    "        \"\"\"\n",
    "            One-hot encoding for the number and\n",
    "            0s for the image data input.\n",
    "\n",
    "            The expected output is the generated image \n",
    "        \"\"\"\n",
    "        assert number >= 0 and number <= 9\n",
    "        \n",
    "        # Create random binary image with prob 0.5 \n",
    "        #X = np.random.binomial(1, 0.5, size=(1, self.n_v - self.num_labels))\n",
    "        X = np.zeros((1, self.n_v - self.num_labels))\n",
    "        encoded = np.zeros((1, self.num_labels))\n",
    "        encoded[0, number] = 1\n",
    "        X = np.concatenate((X, encoded), axis=1)\n",
    "\n",
    "        # Reconstruct the image\n",
    "        # aux = self.k\n",
    "        # self.k = 1 # let it \"dream\"\n",
    "        x_ = self.reconstruct(X)\n",
    "        # self.k = aux\n",
    "\n",
    "        # Remove the label\n",
    "        return x_[:, :-self.num_labels]\n"
   ]
  },
  {
   "cell_type": "code",
   "execution_count": 56,
   "metadata": {},
   "outputs": [],
   "source": [
    "# Hyperparameters\n",
    "batch_size    = 64\n",
    "learning_rate = 0.1\n",
    "hidden_nodes  = 50      # Number of visible nodes are the input shape\n",
    "epochs        = 100     # Number of epochs"
   ]
  },
  {
   "cell_type": "code",
   "execution_count": 57,
   "metadata": {},
   "outputs": [],
   "source": [
    "# # Initialize RBM with 30 hidden units and train it for 100 epochs\n",
    "# rbm = MNIST_RBM_CD(visible_nodes=X_train.shape[1], hidden_nodes=hidden_nodes, k=k)\n",
    "#  \n",
    "# print(\"Train:\")\n",
    "# train_loss = rbm.fit(X_train, Y_train, epochs=epochs, batch_dim=batch_size, lr=learning_rate, verbose=True)\n",
    "# rbm.save(f\"./models/MNIST_RBM_CD_e{epochs}_bt{batch_size}_lr{learning_rate}_hn{hidden_nodes}_k{k}.pt\")\n",
    "\n",
    "# Load a pretrained model\n",
    "model_path = \"./models/MNIST_RBM_CD_e100_bt64_lr0.1_hn30_k1.pt\"\n",
    "rbm = MNIST_RBM_CD(X_train.shape[1], hidden_nodes, pretrained= model_path)"
   ]
  },
  {
   "cell_type": "code",
   "execution_count": 58,
   "metadata": {},
   "outputs": [
    {
     "data": {
      "image/png": "[encoded data removed]",
      "text/plain": [
       "<Figure size 1000x200 with 10 Axes>"
      ]
     },
     "metadata": {},
     "output_type": "display_data"
    }
   ],
   "source": [
    "# Show the result\n",
    "fig, axes = plt.subplots(1, 10, figsize=(10, 2))\n",
    "for i in range(10):\n",
    "\n",
    "    img = rbm.generate_MNIST_image(i)\n",
    "    img = img.reshape(28, 28) # Resize each image to 28x28\n",
    "\n",
    "    axes[i].set_title(f\"{i}\")\n",
    "    axes[i].imshow(img)  \n",
    "    axes[i].axis(\"off\")\n",
    "\n",
    "plt.show()"
   ]
  },
  {
   "cell_type": "markdown",
   "metadata": {},
   "source": [
    "It probably doesn't work as expected because the presence of the label is just one pixel. It may work by making more important the weights of the labels (more nodes per label). However, the learned model is able to infer the label of each image at some point: "
   ]
  },
  {
   "cell_type": "code",
   "execution_count": 59,
   "metadata": {},
   "outputs": [
    {
     "data": {
      "image/png": "[encoded data removed]",
      "text/plain": [
       "<Figure size 3000x600 with 20 Axes>"
      ]
     },
     "metadata": {},
     "output_type": "display_data"
    }
   ],
   "source": [
    "# reconstruction\n",
    "digit_indices = [np.where(Y_test == i)[0][0] for i in range(10)]\n",
    "resticted_set = X_test[digit_indices]\n",
    "reconstructed = rbm.reconstruct( np.concatenate((resticted_set, np.zeros((resticted_set.shape[0], 10))), axis=1))\n",
    "\n",
    "# show 10 sample images\n",
    "rows = 2\n",
    "columns = 10\n",
    "\n",
    "fig, axes = plt.subplots(rows, columns,sharey = True,figsize=(30, 6))\n",
    "for i in range(rows):\n",
    "    for j in range(columns):\n",
    "        if i==0:\n",
    "          axes[i, j].imshow(resticted_set[j].reshape(28, 28))\n",
    "        else:\n",
    "          axes[i, j].imshow(reconstructed[j, :-10].reshape(28, 28))\n",
    "          label = np.argmax(reconstructed[j, -10:])\n",
    "          axes[i, j].set_title(label)\n",
    "        axes[i, j].tick_params(left = False, right = False , labelleft = False,\n",
    "                labelbottom = False, bottom = False)\n",
    "\n",
    "axes[0, 0].set_ylabel(\"ACTUAL\", fontsize=12)\n",
    "axes[1, 0].set_ylabel(\"REC.\", fontsize=12)\n",
    "plt.show()"
   ]
  },
  {
   "cell_type": "markdown",
   "metadata": {},
   "source": [
    "## RBM Persistent Contrastive Divergence"
   ]
  },
  {
   "cell_type": "markdown",
   "metadata": {},
   "source": [
    "Here is the implementation of the PCD algorithm. We implemented the RBM_PCD class as a subclass of RBM. We added the `visible_persistent` attribute to it, which will be key for the algorithm.  This allows the chain to better explore the model's probability space, reaching a closer approximation to its stationary distribution."
   ]
  },
  {
   "cell_type": "code",
   "execution_count": 60,
   "metadata": {},
   "outputs": [],
   "source": [
    "class RBM_PCD(RBM):\n",
    "    def __init__(self, visible_nodes, hidden_nodes, batch_size = 32, k: int = 2, pretrained: str = None) -> None:\n",
    "        super().__init__(visible_nodes, hidden_nodes, k, pretrained)\n",
    "        self.current_step = 0 # For learning rate decay\n",
    "\n",
    "        # Initialize the visible persistent values\n",
    "        self.visible_persistent = np.random.binomial(1, 0.5, size=(batch_size, self.n_v))  \n",
    "    \n",
    "    def _persistent_contrastive_divergence(self, batch, batch_size, lr, weight_decay):\n",
    "        \"\"\"\n",
    "            K-Step Parallel Tempering Algorithm\n",
    "        \"\"\"\n",
    "        \n",
    "        v = batch\n",
    "        v_persistent = self.visible_persistent\n",
    "\n",
    "        h_p, _= self._forward(v)\n",
    "        _, _, _, v_persistent_ = self._gibbsampling(v_persistent)\n",
    "        h_p_persistent_, _ = self._forward(v_persistent_)\n",
    "\n",
    "        possitive_association = np.dot(v.T, h_p)\n",
    "        negative_association = np.dot(v_persistent_.T, h_p_persistent_)\n",
    "        \n",
    "        # Update the parameters\n",
    "        self.W += lr * (possitive_association - negative_association) / batch_size  - weight_decay * self.W / batch_size\n",
    "        self.a += lr * np.mean(v - v_persistent_, axis=0)\n",
    "        self.b += lr * np.mean(h_p - h_p_persistent_, axis=0)\n",
    "        self.visible_persistent = v_persistent_\n",
    "\n",
    "        #Compute loss for the instance\n",
    "        error = np.sum((v - self.visible_persistent)**2) / batch_size\n",
    "        return error\n",
    "\n",
    "    def fit(self, X, epochs = 10, batch_dim = 32, lr = 0.1, weight_decay = 0.001, verbose = False) -> list:\n",
    "        \"\"\"\n",
    "            Train the RBM using Persistent Contrastive Divergence\n",
    "        \"\"\"\n",
    "        self.current_step = 0 # lr linear decay\n",
    "\n",
    "        train_errors = []\n",
    "        for epoch in range(epochs):\n",
    "            t_error = 0.0\n",
    "            train_num = X.shape[0]\n",
    "            batches = list(gen_batches(train_num, batch_dim))\n",
    "            for batch in batches:\n",
    "                batch = X[batch.start:batch.stop]\n",
    "                batch_size = batch.shape[0]\n",
    "                \n",
    "                if batch_size != batch_dim:\n",
    "                    continue # skip\n",
    "\n",
    "                # Linear learning rate decay\n",
    "                learning_rate = lr\n",
    "                # learning_rate = lr *(1 - self.current_step / (batch_size * len(batches) * epochs))\n",
    "                # self.current_step += 1\n",
    "\n",
    "                t_error += self._persistent_contrastive_divergence(batch, batch_size, learning_rate, weight_decay)\n",
    "           \n",
    "            t_error /= len(batches)\n",
    "            train_errors.append(t_error)\n",
    "            \n",
    "            if verbose:\n",
    "                print(f\"epoch: {epoch}/{epochs} \\t{'error:'} {t_error}\")\n",
    "        return train_errors"
   ]
  },
  {
   "cell_type": "markdown",
   "metadata": {},
   "source": [
    "### MNIST Data Reconstruction With PCD RBM"
   ]
  },
  {
   "cell_type": "markdown",
   "metadata": {},
   "source": [
    "We reconstruct the dataset with the PCD algorithm. We train the model with 30 hidden nodes, and 100 epochs and see the error it generates on the training set for each epochs.  \n",
    "\n",
    "We also test the model on the testing dataset, in order to make a comparison with the training error. "
   ]
  },
  {
   "cell_type": "code",
   "execution_count": 61,
   "metadata": {},
   "outputs": [
    {
     "name": "stdout",
     "output_type": "stream",
     "text": [
      "RBM PCD MNIST RECONSTRUCTION TEST\n",
      "Hyperparameters:\n",
      "\tX_train instances: 60000\tX_test instances: 10000\n",
      "\tbatch size: 64\tepochs: 100\tlearning rate: 0.1\n",
      "\tvisible nodes: 784\thidden nodes:30\n"
     ]
    }
   ],
   "source": [
    "# Hyperparameters\n",
    "k = 1\n",
    "batch_size    = 64\n",
    "learning_rate = 0.1\n",
    "hidden_nodes  = 30      # Number of visible nodes are the input shape\n",
    "epochs        = 100     # Number of epochs\n",
    "\n",
    "print(\"RBM PCD MNIST RECONSTRUCTION TEST\")\n",
    "print(f\"Hyperparameters:\")\n",
    "print(f\"\\tX_train instances: {X_train.shape[0]}\\tX_test instances: {X_test.shape[0]}\")\n",
    "print(f\"\\tbatch size: {batch_size}\\tepochs: {epochs}\\tlearning rate: {learning_rate}\")\n",
    "print(f\"\\tvisible nodes: {X_train.shape[1]}\\thidden nodes:{hidden_nodes}\")"
   ]
  },
  {
   "cell_type": "code",
   "execution_count": 62,
   "metadata": {},
   "outputs": [
    {
     "name": "stdout",
     "output_type": "stream",
     "text": [
      "Training:\n",
      "epoch: 0/100 \terror: 143.05542044243072\n",
      "epoch: 1/100 \terror: 134.4491604477612\n",
      "epoch: 2/100 \terror: 134.882296108742\n",
      "epoch: 3/100 \terror: 134.49928371535182\n",
      "epoch: 4/100 \terror: 134.6796708422175\n",
      "epoch: 5/100 \terror: 134.53638059701493\n",
      "epoch: 6/100 \terror: 134.94716151385927\n",
      "epoch: 7/100 \terror: 134.60429437633263\n",
      "epoch: 8/100 \terror: 134.53689698827293\n",
      "epoch: 9/100 \terror: 134.84879730810235\n",
      "epoch: 10/100 \terror: 134.71934968017058\n",
      "epoch: 11/100 \terror: 134.59141791044777\n",
      "epoch: 12/100 \terror: 134.4305203891258\n",
      "epoch: 13/100 \terror: 134.81927971748402\n",
      "epoch: 14/100 \terror: 134.60487739872067\n",
      "epoch: 15/100 \terror: 134.88504464285714\n",
      "epoch: 16/100 \terror: 134.49555237206823\n",
      "epoch: 17/100 \terror: 134.71738406183368\n",
      "epoch: 18/100 \terror: 134.94629530916845\n",
      "epoch: 19/100 \terror: 134.66214685501066\n",
      "epoch: 20/100 \terror: 134.27252132196162\n",
      "epoch: 21/100 \terror: 134.51525852878464\n",
      "epoch: 22/100 \terror: 135.02205490405117\n",
      "epoch: 23/100 \terror: 134.67402385394456\n",
      "epoch: 24/100 \terror: 134.64942030916845\n",
      "epoch: 25/100 \terror: 134.28391524520256\n",
      "epoch: 26/100 \terror: 134.84563232942432\n",
      "epoch: 27/100 \terror: 134.50096615138594\n",
      "epoch: 28/100 \terror: 134.24548574093816\n",
      "epoch: 29/100 \terror: 134.60637659914713\n",
      "epoch: 30/100 \terror: 134.76255996801706\n",
      "epoch: 31/100 \terror: 134.5464585554371\n",
      "epoch: 32/100 \terror: 134.9972014925373\n",
      "epoch: 33/100 \terror: 134.58283915245204\n",
      "epoch: 34/100 \terror: 134.3365538379531\n",
      "epoch: 35/100 \terror: 134.22346415245204\n",
      "epoch: 36/100 \terror: 134.75076625799574\n",
      "epoch: 37/100 \terror: 134.9907216151386\n",
      "epoch: 38/100 \terror: 134.89295708955223\n",
      "epoch: 39/100 \terror: 134.87298440831557\n",
      "epoch: 40/100 \terror: 134.92902118869935\n",
      "epoch: 41/100 \terror: 134.52810167910448\n",
      "epoch: 42/100 \terror: 134.8321728411514\n",
      "epoch: 43/100 \terror: 134.7431203358209\n",
      "epoch: 44/100 \terror: 134.83765325159914\n",
      "epoch: 45/100 \terror: 134.5758595415778\n",
      "epoch: 46/100 \terror: 134.4524920042644\n",
      "epoch: 47/100 \terror: 134.67642257462686\n",
      "epoch: 48/100 \terror: 134.70124267057568\n",
      "epoch: 49/100 \terror: 134.54049506929638\n",
      "epoch: 50/100 \terror: 134.73599080490405\n",
      "epoch: 51/100 \terror: 134.60152918443498\n",
      "epoch: 52/100 \terror: 134.45055970149255\n",
      "epoch: 53/100 \terror: 134.59168443496802\n",
      "epoch: 54/100 \terror: 134.3976046108742\n",
      "epoch: 55/100 \terror: 134.54154450959487\n",
      "epoch: 56/100 \terror: 134.36792044243072\n",
      "epoch: 57/100 \terror: 133.98254264392324\n",
      "epoch: 58/100 \terror: 134.7305270522388\n",
      "epoch: 59/100 \terror: 134.3387360074627\n",
      "epoch: 60/100 \terror: 134.74483608742005\n",
      "epoch: 61/100 \terror: 134.04652518656715\n",
      "epoch: 62/100 \terror: 134.40068630063965\n",
      "epoch: 63/100 \terror: 134.31786380597015\n",
      "epoch: 64/100 \terror: 134.5032149520256\n",
      "epoch: 65/100 \terror: 134.71691764392324\n",
      "epoch: 66/100 \terror: 134.75141591151385\n",
      "epoch: 67/100 \terror: 134.5392623933902\n",
      "epoch: 68/100 \terror: 134.52565298507463\n",
      "epoch: 69/100 \terror: 134.8263259594883\n",
      "epoch: 70/100 \terror: 134.2695728944563\n",
      "epoch: 71/100 \terror: 134.29221082089552\n",
      "epoch: 72/100 \terror: 134.87426705756928\n",
      "epoch: 73/100 \terror: 134.87514992004265\n",
      "epoch: 74/100 \terror: 134.53401519189765\n",
      "epoch: 75/100 \terror: 134.94401319296375\n",
      "epoch: 76/100 \terror: 134.8321894989339\n",
      "epoch: 77/100 \terror: 134.7153184968017\n",
      "epoch: 78/100 \terror: 134.6134394989339\n",
      "epoch: 79/100 \terror: 134.66965951492537\n",
      "epoch: 80/100 \terror: 134.64279051172707\n",
      "epoch: 81/100 \terror: 134.45389125799574\n",
      "epoch: 82/100 \terror: 134.34723147654583\n",
      "epoch: 83/100 \terror: 134.72034914712154\n",
      "epoch: 84/100 \terror: 134.69867737206823\n",
      "epoch: 85/100 \terror: 134.56211687100213\n",
      "epoch: 86/100 \terror: 134.26744069829425\n",
      "epoch: 87/100 \terror: 134.46037113539447\n",
      "epoch: 88/100 \terror: 135.0139758795309\n",
      "epoch: 89/100 \terror: 134.76559168443498\n",
      "epoch: 90/100 \terror: 134.9464785447761\n",
      "epoch: 91/100 \terror: 134.82599280383795\n",
      "epoch: 92/100 \terror: 134.95265858208955\n",
      "epoch: 93/100 \terror: 134.66767723880596\n",
      "epoch: 94/100 \terror: 134.6875\n",
      "epoch: 95/100 \terror: 134.4439632196162\n",
      "epoch: 96/100 \terror: 134.0486407249467\n",
      "epoch: 97/100 \terror: 134.02055570362472\n",
      "epoch: 98/100 \terror: 134.17287446695096\n",
      "epoch: 99/100 \terror: 134.39848747334756\n"
     ]
    }
   ],
   "source": [
    "# Initialize RBM with 30 hidden units and train it for 100 epochs\n",
    "rbm = RBM_PCD(visible_nodes=X_train.shape[1], hidden_nodes=hidden_nodes, batch_size=batch_size, k= k)\n",
    "\n",
    "print(f\"Training:\")\n",
    "train_loss = rbm.fit(X_train, epochs=epochs, batch_dim=batch_size, lr=learning_rate, verbose=True)\n",
    "# rbm.save(f\"./models/RBM_PCD_e{epochs}_bt{batch_size}_lr{learning_rate}_hn{hidden_nodes}_k{k}.pt\")"
   ]
  },
  {
   "cell_type": "code",
   "execution_count": 63,
   "metadata": {},
   "outputs": [
    {
     "data": {
      "image/png": "[encoded data removed]",
      "text/plain": [
       "<Figure size 640x480 with 1 Axes>"
      ]
     },
     "metadata": {},
     "output_type": "display_data"
    }
   ],
   "source": [
    "plt.plot(range(len(train_loss)), train_loss, color = \"blue\", label = \"train loss\")\n",
    "plt.xlabel(\"Epoch\")\n",
    "plt.ylabel(\"Loss\")\n",
    "plt.title(\"PCD RBM Train Error\")\n",
    "plt.legend()\n",
    "plt.show()"
   ]
  },
  {
   "cell_type": "code",
   "execution_count": 64,
   "metadata": {},
   "outputs": [
    {
     "data": {
      "image/png": "[encoded data removed]",
      "text/plain": [
       "<Figure size 3000x600 with 20 Axes>"
      ]
     },
     "metadata": {},
     "output_type": "display_data"
    }
   ],
   "source": [
    "# reconstruction\n",
    "digit_indices = [np.where(Y_test == i)[0][0] for i in range(10)]\n",
    "resticted_set = X_test[digit_indices]\n",
    "\n",
    "reconstructed = rbm.reconstruct(resticted_set)\n",
    "\n",
    "# show 10 sample images\n",
    "rows = 2\n",
    "columns = 10\n",
    "\n",
    "fig, axes = plt.subplots(rows, columns,sharey = True,figsize=(30, 6))\n",
    "for i in range(rows):\n",
    "    for j in range(columns):\n",
    "        if i==0:\n",
    "          axes[i, j].imshow(resticted_set[j].reshape(28, 28))\n",
    "        else:\n",
    "          axes[i, j].imshow(reconstructed[j].reshape(28, 28))\n",
    "\n",
    "        axes[i, j].tick_params(left = False, right = False , labelleft = False,\n",
    "                labelbottom = False, bottom = False)\n",
    "\n",
    "axes[0, 0].set_ylabel(\"ACTUAL\", fontsize=12)\n",
    "axes[1, 0].set_ylabel(\"REC.\", fontsize=12)\n",
    "plt.show()"
   ]
  },
  {
   "cell_type": "markdown",
   "metadata": {},
   "source": [
    "The same experiment as before reimplementing the train and test loops to see the mean squared error evolution difference for each epoch."
   ]
  },
  {
   "cell_type": "code",
   "execution_count": 65,
   "metadata": {},
   "outputs": [],
   "source": [
    "def show_trloss_evloss(X_train, X_test, epochs, batch_dim, lr):\n",
    "    test_rbm = RBM_PCD(visible_nodes=X_train.shape[1], hidden_nodes=hidden_nodes, batch_size=batch_dim, k= k)\n",
    "    train_errors = []\n",
    "    eval_errors = []\n",
    "\n",
    "    for _ in range(epochs):\n",
    "        def train_loop(X, batch_dim, lr):\n",
    "            train_num = X.shape[0]\n",
    "            batches = list(gen_batches(train_num, batch_dim))\n",
    "            t_error = 0.0\n",
    "            for batch in batches:\n",
    "                batch = X[batch.start:batch.stop]\n",
    "                batch_size = batch.shape[0]\n",
    "                if batch_size != batch_dim:\n",
    "                    continue # skip\n",
    "                error = test_rbm._persistent_contrastive_divergence(batch, batch_size, lr, weight_decay=0.001)\n",
    "                t_error += error\n",
    "        \n",
    "            return t_error / len(batches)\n",
    "        def test_loop(X):\n",
    "            x_ = test_rbm.reconstruct(X)\n",
    "            return np.sum((X - x_)**2) / X.shape[0]\n",
    "\n",
    "        train_errors.append(train_loop(X_train, batch_dim, lr))\n",
    "        eval_errors.append(test_loop(X_test))\n",
    "\n",
    "    return train_errors, eval_errors\n",
    "\n",
    "train_loss2, test_loss2 = show_trloss_evloss(X_train, X_test, 10, 64, 0.1)"
   ]
  },
  {
   "cell_type": "code",
   "execution_count": 66,
   "metadata": {},
   "outputs": [
    {
     "data": {
      "image/png": "[encoded data removed]",
      "text/plain": [
       "<Figure size 640x480 with 1 Axes>"
      ]
     },
     "metadata": {},
     "output_type": "display_data"
    }
   ],
   "source": [
    "plt.plot(range(len(train_loss2)), train_loss2, color = \"blue\", label = \"train loss\")\n",
    "plt.plot(range(len(test_loss2)), test_loss2, color = \"red\", label = \"test loss\")\n",
    "plt.xlabel(\"Epoch\")\n",
    "plt.ylabel(\"Loss\")\n",
    "plt.title(\"PCD RBM Train Error\")\n",
    "plt.legend()\n",
    "plt.show()"
   ]
  },
  {
   "cell_type": "code",
   "execution_count": null,
   "metadata": {},
   "outputs": [
    {
     "data": {
      "image/png": "[encoded data removed]",
      "text/plain": [
       "<Figure size 640x480 with 1 Axes>"
      ]
     },
     "metadata": {},
     "output_type": "display_data"
    }
   ],
   "source": [
    "plt.plot(range(len(test_loss1)), test_loss1, color = \"red\", label = \"test loss RBM CD\")\n",
    "plt.plot(range(len(test_loss2)), test_loss2, color = \"blue\", label = \"test loss RBM PCD\")\n",
    "plt.xlabel(\"Epoch\")\n",
    "plt.ylabel(\"Loss\")\n",
    "plt.title(\"TPCD vs CD RBM\")\n",
    "plt.legend()\n",
    "plt.show()"
   ]
  }
 ],
 "metadata": {
  "kernelspec": {
   "display_name": ".venv",
   "language": "python",
   "name": "python3"
  },
  "language_info": {
   "codemirror_mode": {
    "name": "ipython",
    "version": 3
   },
   "file_extension": ".py",
   "mimetype": "text/x-python",
   "name": "python",
   "nbconvert_exporter": "python",
   "pygments_lexer": "ipython3",
   "version": "3.12.7"
  }
 },
 "nbformat": 4,
 "nbformat_minor": 2
}
