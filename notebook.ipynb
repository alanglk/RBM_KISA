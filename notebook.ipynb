{
 "cells": [
  {
   "cell_type": "markdown",
   "metadata": {},
   "source": [
    "# Markov chains for gradient estimation in the context of Restricted Boltzman Machine Learning\n",
    "\n",
    "_Authors: Alan García and Sandra Burgos_"
   ]
  },
  {
   "cell_type": "markdown",
   "metadata": {},
   "source": [
    "notebook explanation..."
   ]
  },
  {
   "cell_type": "markdown",
   "metadata": {},
   "source": [
    "## Packages"
   ]
  },
  {
   "cell_type": "code",
   "execution_count": 1,
   "metadata": {},
   "outputs": [],
   "source": [
    "# Main packages for the implementation\n",
    "import gzip\n",
    "import numpy as np\n",
    "from abc import ABC, abstractmethod\n",
    "\n",
    "# Just for working with datasets\n",
    "from sklearn.model_selection import train_test_split\n",
    "from sklearn.utils import gen_batches\n",
    "\n",
    "# For plotting\n",
    "import matplotlib.pyplot as plt"
   ]
  },
  {
   "cell_type": "code",
   "execution_count": 8,
   "metadata": {},
   "outputs": [],
   "source": [
    "np.random.seed(42) # For reproducibility"
   ]
  },
  {
   "cell_type": "markdown",
   "metadata": {},
   "source": [
    "## Datasets"
   ]
  },
  {
   "cell_type": "markdown",
   "metadata": {},
   "source": [
    "For the development and testing of the RBM implementations the MNIST handwritten numbers dataset has been used..."
   ]
  },
  {
   "cell_type": "code",
   "execution_count": 3,
   "metadata": {},
   "outputs": [],
   "source": [
    "class MNIST:\n",
    "    \"\"\"\n",
    "    https://yann.lecun.com/exdb/mnist/\n",
    "    ubyte format of MNIST images:\n",
    "        [offset] [type]          [value]          [description]\n",
    "        0000     32 bit integer  0x00000803(2051) magic number\n",
    "        0004     32 bit integer  10000            number of images\n",
    "        0008     32 bit integer  28               number of rows\n",
    "        0012     32 bit integer  28               number of columns\n",
    "        0016     unsigned byte   ??               pixel\n",
    "        0017     unsigned byte   ??               pixel\n",
    "        ........\n",
    "        xxxx     unsigned byte   ??               pixel\n",
    "    \n",
    "    ubyte format of MNIST labels:\n",
    "        [offset] [type]          [value]          [description]\n",
    "        0000     32 bit integer  0x00000801(2049) magic number (MSB first)\n",
    "        0004     32 bit integer  60000            number of items\n",
    "        0008     unsigned byte   ??               label\n",
    "        0009     unsigned byte   ??               label\n",
    "        ........\n",
    "        xxxx     unsigned byte   ??               label\n",
    "    \"\"\"\n",
    "    \n",
    "    def __init__(self, images_path: str, label_path: str, N: int = None) -> None:\n",
    "        \"\"\"\n",
    "            INPUT:\n",
    "                - images path: path of the dataset images\n",
    "                - labels path: path of the dataset labels\n",
    "                - N: if not provided, all the images in the input file are read.\n",
    "                    Else, N images are read.\n",
    "        \"\"\"\n",
    "        \n",
    "        self.images_path = images_path\n",
    "        self.labels_path = label_path\n",
    "\n",
    "        # Open with gzip to uncompress the files\n",
    "        self.images_file = gzip.open(self.images_path, \"rb\")\n",
    "        self.labels_file = gzip.open(self.labels_path, \"rb\")\n",
    "        self.images_file.read(4) # Ignore the magic numbers\n",
    "        self.labels_file.read(4)\n",
    "\n",
    "        # Prepare Images data file reader\n",
    "        self.number_of_items = int.from_bytes(self.images_file.read(4), byteorder=\"big\") # Total number of images\n",
    "        self.row_num = int.from_bytes(self.images_file.read(4), byteorder=\"big\")    # row pixels of image\n",
    "        self.col_num = int.from_bytes(self.images_file.read(4), byteorder=\"big\")    # col pixels of image\n",
    "        \n",
    "        self.N = self.number_of_items if N is None else N # Number of items to be read\n",
    "        self.num_bytes_per_image = self.col_num * self.row_num\n",
    "        self.returned_images = 0    # Number of read images\n",
    "        self.images_file.seek(16)   # Set the cursor to the init of the first image\n",
    "\n",
    "        # Prepare Labels file reader\n",
    "        assert self.number_of_items == int.from_bytes(self.labels_file.read(4), byteorder=\"big\")\n",
    "        self.labels_file.seek(8)\n",
    "\n",
    "        # Print metadata\n",
    "        print(f\"[MNIST]     image size: {self.col_num}x{self.row_num} total dataset images: {self.number_of_items} images to be read: {self.N}\")\n",
    "\n",
    "        \n",
    "\n",
    "    def __iter__(self):\n",
    "        \"\"\"Create an iterator for the MNIST dataset\"\"\"\n",
    "        return self\n",
    "\n",
    "    def __next__(self):\n",
    "        \"\"\"Return the next image in the dataset\"\"\"\n",
    "        if self.returned_images >= self.N:\n",
    "            self.images_file.close()\n",
    "            self.labels_file.close()\n",
    "            raise StopIteration\n",
    "        else:\n",
    "            pixels = []\n",
    "            for _ in range(self.num_bytes_per_image):\n",
    "                data = self.images_file.read(1)\n",
    "\n",
    "                if not data:\n",
    "                    print(f\"[MNIST]     ERROR -> This should not be reached\")\n",
    "                    self.file.close()\n",
    "                    raise StopIteration\n",
    "                \n",
    "                pixels.append(int.from_bytes(data, byteorder=\"big\"))\n",
    "            label = int.from_bytes(self.labels_file.read(1))\n",
    "            self.returned_images += 1\n",
    "\n",
    "            pixels = np.array(pixels)\n",
    "            pixels = pixels / 255 # Normalize data \n",
    "            pixels = np.where(pixels > 0.5, 1, 0) # Transform to binary\n",
    "            return pixels.tolist(), label\n",
    "\n",
    "    def __del__(self):\n",
    "        # Close the files if the object is destroyed\n",
    "        if hasattr(self, 'images_file') and not self.images_file.closed:\n",
    "            self.images_file.close()\n",
    "        if hasattr(self, 'labels_file') and not self.labels_file.closed:\n",
    "            self.labels_file.close()\n",
    "\n",
    "    def to_list(self):\n",
    "        return list(self)\n",
    "    \n",
    "    def to_numpy(self):\n",
    "        dataset = self.to_list()\n",
    "        X = np.array([item[0] for item in dataset])\n",
    "        Y = np.array([item[1] for item in dataset])\n",
    "        return X, Y"
   ]
  },
  {
   "cell_type": "markdown",
   "metadata": {},
   "source": [
    "The `MNIST` class is just a helper to load the encoded MNIST Dataset from the `./data/` folder...."
   ]
  },
  {
   "cell_type": "code",
   "execution_count": 4,
   "metadata": {},
   "outputs": [
    {
     "name": "stdout",
     "output_type": "stream",
     "text": [
      "[MNIST]     image size: 28x28 total dataset images: 10000 images to be read: 10\n"
     ]
    },
    {
     "data": {
      "image/png": "[encoded data removed]",
      "text/plain": [
       "<Figure size 1000x200 with 10 Axes>"
      ]
     },
     "metadata": {},
     "output_type": "display_data"
    }
   ],
   "source": [
    "def MNIST_test():\n",
    "    # Read the 10 first images from the MNIST dataset\n",
    "    dataset = MNIST(\"./data/t10k-images-idx3-ubyte.gz\", \"./data/t10k-labels-idx1-ubyte.gz\", 10)\n",
    "\n",
    "    # Iterate the dataset\n",
    "    images = []\n",
    "    for img, label in dataset:\n",
    "        images.append((img, label))\n",
    "\n",
    "    # Show the result\n",
    "    import matplotlib.pyplot as plt\n",
    "    import numpy as np\n",
    "    fig, axes = plt.subplots(1, len(images), figsize=(10, 2))\n",
    "    for i in range(len(images)):\n",
    "        img = np.array(images[i][0]).reshape(28, 28)\n",
    "        axes[i].set_title(f\"{images[i][1]}\")\n",
    "        axes[i].imshow(img, cmap=\"gray\")  # Redimensiona cada imagen a 28x28\n",
    "        axes[i].axis(\"off\")  # Oculta los ejes\n",
    "\n",
    "    plt.show()\n",
    "\n",
    "MNIST_test()"
   ]
  },
  {
   "cell_type": "markdown",
   "metadata": {},
   "source": [
    "## RBM Base"
   ]
  },
  {
   "cell_type": "markdown",
   "metadata": {},
   "source": [
    "This is the main class of our implementation..."
   ]
  },
  {
   "cell_type": "code",
   "execution_count": 6,
   "metadata": {},
   "outputs": [],
   "source": [
    "def sigmoid(z):\n",
    "    return 1/(1 + np.exp(-z))\n",
    "\n",
    "def kl_divergence(p, q):\n",
    "    \"\"\"\n",
    "    The KL-Divergence measures how different are two probability distributions\n",
    "    over the same variable. \n",
    "    \"\"\" \n",
    "    assert len(p) == len(q)\n",
    "    q[q == 0] = 0.00000001 # Not let any element of q be 0\n",
    "    return sum(p[i] * np.log2(p[i] / q[i]) for i in range(len(p)) if p[i] > 0)"
   ]
  },
  {
   "cell_type": "code",
   "execution_count": 7,
   "metadata": {},
   "outputs": [],
   "source": [
    "class RBM(ABC):\n",
    "    \"\"\"\n",
    "        Implementation of Restricted Boltzman Machine for\n",
    "        KISA Optimization Techniques by Sandra Burgos and\n",
    "        Alan Garcia.\n",
    "        \n",
    "        References:\n",
    "            - https://es.wikipedia.org/wiki/M%C3%A1quina_de_Boltzmann_restringida\n",
    "            - https://upcommons.upc.edu/bitstream/handle/2117/344139/TFM.pdf?sequence=2&isAllowed=y\n",
    "\n",
    "        Other resources for implementation:\n",
    "            1. https://leftasexercise.com/2018/04/09/restricted-boltzmann-machines/\n",
    "            2. https://leftasexercise.com/2018/04/13/learning-algorithms-for-restricted-boltzmann-machines-contrastive-divergence/\n",
    "            3. https://leftasexercise.com/2018/04/20/training-restricted-boltzmann-machines-with-persistent-contrastive-divergence/ \n",
    "            4. https://christian-igel.github.io/paper/TRBMAI.pdf\n",
    "    \"\"\"\n",
    "    def __init__(self, visible_nodes, hidden_nodes, k: int = 1) -> None:\n",
    "        \"\"\"\n",
    "            n_v: number of visible nodes\n",
    "            n_h: number of hidden nodes\n",
    "            k -> Number of gibbsampling steps to be performed    \n",
    "\n",
    "            W -> Network weights\n",
    "            a -> Visible layer biases\n",
    "            b -> Hidden layer biases\n",
    "        \"\"\"\n",
    "        \n",
    "        self.n_v = visible_nodes\n",
    "        self.n_h = hidden_nodes\n",
    "        self.k = k \n",
    "\n",
    "        # Initialize random weights from uniform distribution (Xavier initialization)\n",
    "        limit = np.sqrt(6. / (self.n_v + self.n_h))\n",
    "        self.W = np.random.uniform(low=-limit, high=limit, size=(self.n_v, self.n_h))\n",
    "        self.a = np.random.uniform(low=-limit, high=limit, size=(self.n_v)) # np.zeros((1, visible_nodes))\n",
    "        self.b = np.random.uniform(low=-limit, high=limit, size=(self.n_h)) # np.zeros((1, hidden_nodes))\n",
    "    \n",
    "    def _forward(self, V):\n",
    "        \"\"\" \n",
    "            Fordward propagation:\n",
    "            Activation probability \n",
    "                > P(hj = 1 | v) = S (bj + sum_i=1^m(Wi,j * vi) )\n",
    "                    where S is the sigmoid function, v the visible layers set and h the hidden layers set\n",
    "                > P(h | v) = S( b + v @ W)\n",
    "        \"\"\"\n",
    "        # V: (N, visible_nodes)\n",
    "        h_p = np.dot(V, self.W) + self.b\n",
    "        h_p = sigmoid(h_p)\n",
    "        assert h_p.shape == (V.shape[0], self.n_h)\n",
    "\n",
    "        h = np.random.binomial(1, h_p, size=h_p.shape)\n",
    "        return h_p, h\n",
    "    \n",
    "    def _backward(self, H):\n",
    "        \"\"\"\n",
    "            Backward:\n",
    "            Activation probability > P(vi = 1 | h) = S (ai + sum_j=1^m(Wi,j * hj) )\n",
    "                where S is the sigmoid function, v the visible layers set and h the hidden layers set\n",
    "        \"\"\"\n",
    "        # V: (N, hidden_nodes)\n",
    "        v_p = np.dot(H, self.W.T) + self.a\n",
    "        v_p = sigmoid(v_p)\n",
    "        assert v_p.shape == (H.shape[0], self.n_v)\n",
    "\n",
    "        v = np.random.binomial(1, v_p, size=v_p.shape)\n",
    "        return v_p, v\n",
    "\n",
    "    def _gibbsampling(self, V):\n",
    "        \"\"\"\n",
    "            Perform Gibbsampling\n",
    "            OUTPUT: (h_p, h, v_p_, v_)\n",
    "                h_p: hidden layer activation probs\n",
    "                h: hidden layer samples\n",
    "                v_p_: visible layer activation probs\n",
    "                v_: visible layer reconstruction\n",
    "        \"\"\"\n",
    "        v = V\n",
    "        for i in range(self.k):\n",
    "            h_p, h = self._forward(v)\n",
    "            v_p, v = self._backward(h)\n",
    "        return h_p, h, v_p, v\n",
    "\n",
    "    @abstractmethod\n",
    "    def fit():\n",
    "        \"\"\"\n",
    "        The objective is to minimize the energy E of the system:\n",
    "            E(v, h)=-a' v - b' h - v' W h\n",
    "        So, to train the RBM we need to compute these terms:\n",
    "            ∂Energy(v, h)/∂Wij = −hi · vj\n",
    "            ∂Energy(v, h)/∂bj = −vj\n",
    "            ∂Energy(v, h)/∂ci = −hi\n",
    "        However, we don't have access to v and h but we have access\n",
    "        to ther probabilities p_v and p_h, so we have to sample from\n",
    "        P(v | h) and P(h | v)\n",
    "        But direct sampling from those distributions is hard, thats why \n",
    "        CD, PCD and other methods were developed\n",
    "        \"\"\"\n",
    "        raise NotImplemented\n",
    "\n",
    "    def reconstruct(self, X):\n",
    "        \"\"\"\n",
    "            Gibbsampling step to reconstruct output vk from v0 input.\n",
    "            OUTPUT: generated visible layer output\n",
    "        \"\"\"\n",
    "        h_p, h, v_p_, v_  = self._gibbsampling(X)\n",
    "        return v_"
   ]
  },
  {
   "cell_type": "code",
   "execution_count": 9,
   "metadata": {},
   "outputs": [
    {
     "name": "stdout",
     "output_type": "stream",
     "text": [
      "RBM BASE TEST\n",
      "Test input shape: (1, 4) Test input: \n",
      "[[0.001 1.    0.001 1.   ]]\n",
      "rbm visible nodes: 4 hidden nodes: 4\n",
      "rbm.a biasses shape: (4,) rbm.a biasses: \n",
      "[ 0.20223002  0.41614516 -0.95883101  0.9398197 ]\n",
      "rbm.b biasses shape: (2,) rbm.b biasses: \n",
      "[ 0.66488528 -0.57532178]\n",
      "rbm.W weights shape: (4, 2) rbm.W weights: \n",
      "[[-0.25091976  0.90142861]\n",
      " [ 0.46398788  0.19731697]\n",
      " [-0.68796272 -0.68801096]\n",
      " [-0.88383278  0.73235229]]\n",
      "rbm forward shape(1, 2) rbm forward out: \n",
      "[[0.56072415 0.58772315]]\n",
      "rbm backward shape(1, 4) rbm backward out: \n",
      "[[0.64366881 0.68832114 0.1481799  0.70571312]]\n",
      "rbm reconstruct process for v input and 1 gibbsampling steps: \n",
      "[[1 1 0 0]]\n",
      "KL-Divergence between input and final RBM probability output: 7.940179085645143\n",
      "===================================\n",
      "\n"
     ]
    }
   ],
   "source": [
    "# Example data input\n",
    "v = np.array([\n",
    "    [0.001, 1, 0.001, 1]\n",
    "    ])\n",
    "\n",
    "# Instantiate the RBM test object\n",
    "class RBM_BASE(RBM):\n",
    "    def __init__(self, visible_nodes, hidden_nodes):\n",
    "        super().__init__(visible_nodes, hidden_nodes)\n",
    "    def fit():\n",
    "        # Train not implemented for just testing \n",
    "        # the vissible and hidden layers\n",
    "        pass\n",
    "rbm = RBM_BASE(4, 2)\n",
    "p_h, h = rbm._forward(v)\n",
    "\n",
    "print(\"RBM BASE TEST\")\n",
    "print(f\"Test input shape: {v.shape} Test input: \\n{v}\")\n",
    "print(f\"rbm visible nodes: {rbm.n_v} hidden nodes: {rbm.n_v}\")\n",
    "print(f\"rbm.a biasses shape: {rbm.a.shape} rbm.a biasses: \\n{rbm.a}\")\n",
    "print(f\"rbm.b biasses shape: {rbm.b.shape} rbm.b biasses: \\n{rbm.b}\")\n",
    "print(f\"rbm.W weights shape: {rbm.W.shape} rbm.W weights: \\n{rbm.W}\")\n",
    "print(f\"rbm forward shape{p_h.shape} rbm forward out: \\n{p_h}\")\n",
    "\n",
    "p_v, v = rbm._backward(p_h)\n",
    "print(f\"rbm backward shape{p_v.shape} rbm backward out: \\n{p_v}\")\n",
    "\n",
    "v_ = rbm.reconstruct(v)\n",
    "print(f\"rbm reconstruct process for v input and {rbm.k} gibbsampling steps: \\n{v_}\")\n",
    "    \n",
    "# The goal is to reduce the divergence between the input probability\n",
    "# dsitribution and the output. \n",
    "# v = np.array([1, 0.001, 0.001, 1])\n",
    "# v_ = np.array([1, 1, 1, 1])\n",
    "# kld = 0.98860 >> 0 -> significant divergence\n",
    "kld = kl_divergence(v.flatten() / np.sum(v.flatten()), v_.flatten() / np.sum(v_.flatten()))\n",
    "print(f\"KL-Divergence between input and final RBM probability output: {kld}\")\n",
    "print(\"===================================\")\n",
    "print()"
   ]
  },
  {
   "cell_type": "markdown",
   "metadata": {},
   "source": [
    "## RBM Contrastive Divergence"
   ]
  },
  {
   "cell_type": "markdown",
   "metadata": {},
   "source": [
    "Here it is the implementation of the Contrastive Divergence algorithm for training Restricted Boltzman Machines..."
   ]
  },
  {
   "cell_type": "code",
   "execution_count": null,
   "metadata": {},
   "outputs": [],
   "source": []
  },
  {
   "cell_type": "markdown",
   "metadata": {},
   "source": [
    "## RBM Persistent Contrastive Divergence"
   ]
  },
  {
   "cell_type": "markdown",
   "metadata": {},
   "source": [
    "Here it is the implementation of the Persisten Contrastive Divergence algorithm..."
   ]
  },
  {
   "cell_type": "code",
   "execution_count": null,
   "metadata": {},
   "outputs": [],
   "source": []
  }
 ],
 "metadata": {
  "kernelspec": {
   "display_name": ".venv",
   "language": "python",
   "name": "python3"
  },
  "language_info": {
   "codemirror_mode": {
    "name": "ipython",
    "version": 3
   },
   "file_extension": ".py",
   "mimetype": "text/x-python",
   "name": "python",
   "nbconvert_exporter": "python",
   "pygments_lexer": "ipython3",
   "version": "3.12.7"
  }
 },
 "nbformat": 4,
 "nbformat_minor": 2
}
