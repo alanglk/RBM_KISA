{
 "cells": [
  {
   "cell_type": "markdown",
   "metadata": {},
   "source": [
    "# Markov chains for gradient estimation in the context of Restricted Boltzman Machine Learning\n",
    "\n",
    "_Authors: Alan García and Sandra Burgos_"
   ]
  },
  {
   "cell_type": "markdown",
   "metadata": {},
   "source": [
    "notebook explanation..."
   ]
  },
  {
   "cell_type": "markdown",
   "metadata": {},
   "source": [
    "## Packages"
   ]
  },
  {
   "cell_type": "code",
   "execution_count": 6,
   "metadata": {},
   "outputs": [],
   "source": [
    "# Main packages for the implementation\n",
    "import gzip\n",
    "import numpy as np\n",
    "from abc import ABC, abstractmethod\n",
    "import pickle\n",
    "import os\n",
    "\n",
    "# Just for working with datasets\n",
    "from sklearn.model_selection import train_test_split\n",
    "from sklearn.utils import gen_batches\n",
    "\n",
    "# For plotting\n",
    "import matplotlib.pyplot as plt"
   ]
  },
  {
   "cell_type": "code",
   "execution_count": 25,
   "metadata": {},
   "outputs": [],
   "source": [
    "np.random.seed(42) # For reproducibility"
   ]
  },
  {
   "cell_type": "markdown",
   "metadata": {},
   "source": [
    "## Datasets"
   ]
  },
  {
   "cell_type": "markdown",
   "metadata": {},
   "source": [
    "For the development and testing of the RBM implementations the MNIST handwritten numbers dataset has been used..."
   ]
  },
  {
   "cell_type": "code",
   "execution_count": 26,
   "metadata": {},
   "outputs": [],
   "source": [
    "class MNIST:\n",
    "    \"\"\"\n",
    "    https://yann.lecun.com/exdb/mnist/\n",
    "    ubyte format of MNIST images:\n",
    "        [offset] [type]          [value]          [description]\n",
    "        0000     32 bit integer  0x00000803(2051) magic number\n",
    "        0004     32 bit integer  10000            number of images\n",
    "        0008     32 bit integer  28               number of rows\n",
    "        0012     32 bit integer  28               number of columns\n",
    "        0016     unsigned byte   ??               pixel\n",
    "        0017     unsigned byte   ??               pixel\n",
    "        ........\n",
    "        xxxx     unsigned byte   ??               pixel\n",
    "    \n",
    "    ubyte format of MNIST labels:\n",
    "        [offset] [type]          [value]          [description]\n",
    "        0000     32 bit integer  0x00000801(2049) magic number (MSB first)\n",
    "        0004     32 bit integer  60000            number of items\n",
    "        0008     unsigned byte   ??               label\n",
    "        0009     unsigned byte   ??               label\n",
    "        ........\n",
    "        xxxx     unsigned byte   ??               label\n",
    "    \"\"\"\n",
    "    \n",
    "    def __init__(self, images_path: str, label_path: str, N: int = None) -> None:\n",
    "        \"\"\"\n",
    "            INPUT:\n",
    "                - images path: path of the dataset images\n",
    "                - labels path: path of the dataset labels\n",
    "                - N: if not provided, all the images in the input file are read.\n",
    "                    Else, N images are read.\n",
    "        \"\"\"\n",
    "        \n",
    "        self.images_path = images_path\n",
    "        self.labels_path = label_path\n",
    "\n",
    "        # Open with gzip to uncompress the files\n",
    "        self.images_file = gzip.open(self.images_path, \"rb\")\n",
    "        self.labels_file = gzip.open(self.labels_path, \"rb\")\n",
    "        self.images_file.read(4) # Ignore the magic numbers\n",
    "        self.labels_file.read(4)\n",
    "\n",
    "        # Prepare Images data file reader\n",
    "        self.number_of_items = int.from_bytes(self.images_file.read(4), byteorder=\"big\") # Total number of images\n",
    "        self.row_num = int.from_bytes(self.images_file.read(4), byteorder=\"big\")    # row pixels of image\n",
    "        self.col_num = int.from_bytes(self.images_file.read(4), byteorder=\"big\")    # col pixels of image\n",
    "        \n",
    "        self.N = self.number_of_items if N is None else N # Number of items to be read\n",
    "        self.num_bytes_per_image = self.col_num * self.row_num\n",
    "        self.returned_images = 0    # Number of read images\n",
    "        self.images_file.seek(16)   # Set the cursor to the init of the first image\n",
    "\n",
    "        # Prepare Labels file reader\n",
    "        assert self.number_of_items == int.from_bytes(self.labels_file.read(4), byteorder=\"big\")\n",
    "        self.labels_file.seek(8)\n",
    "\n",
    "        # Print metadata\n",
    "        print(f\"[MNIST]     image size: {self.col_num}x{self.row_num} total dataset images: {self.number_of_items} images to be read: {self.N}\")\n",
    "\n",
    "        \n",
    "\n",
    "    def __iter__(self):\n",
    "        \"\"\"Create an iterator for the MNIST dataset\"\"\"\n",
    "        return self\n",
    "\n",
    "    def __next__(self):\n",
    "        \"\"\"Return the next image in the dataset\"\"\"\n",
    "        if self.returned_images >= self.N:\n",
    "            self.images_file.close()\n",
    "            self.labels_file.close()\n",
    "            raise StopIteration\n",
    "        else:\n",
    "            pixels = []\n",
    "            for _ in range(self.num_bytes_per_image):\n",
    "                data = self.images_file.read(1)\n",
    "\n",
    "                if not data:\n",
    "                    print(f\"[MNIST]     ERROR -> This should not be reached\")\n",
    "                    self.file.close()\n",
    "                    raise StopIteration\n",
    "                \n",
    "                pixels.append(int.from_bytes(data, byteorder=\"big\"))\n",
    "            label = int.from_bytes(self.labels_file.read(1))\n",
    "            self.returned_images += 1\n",
    "\n",
    "            pixels = np.array(pixels)\n",
    "            pixels = pixels / 255 # Normalize data \n",
    "            pixels = np.where(pixels > 0.5, 1, 0) # Transform to binary\n",
    "            return pixels.tolist(), label\n",
    "\n",
    "    def __del__(self):\n",
    "        # Close the files if the object is destroyed\n",
    "        if hasattr(self, 'images_file') and not self.images_file.closed:\n",
    "            self.images_file.close()\n",
    "        if hasattr(self, 'labels_file') and not self.labels_file.closed:\n",
    "            self.labels_file.close()\n",
    "\n",
    "    def to_list(self):\n",
    "        return list(self)\n",
    "    \n",
    "    def to_numpy(self):\n",
    "        dataset = self.to_list()\n",
    "        X = np.array([item[0] for item in dataset])\n",
    "        Y = np.array([item[1] for item in dataset])\n",
    "        return X, Y"
   ]
  },
  {
   "cell_type": "markdown",
   "metadata": {},
   "source": [
    "The `MNIST` class is just a helper to load the encoded MNIST Dataset from the `./data/` folder...."
   ]
  },
  {
   "cell_type": "code",
   "execution_count": 27,
   "metadata": {},
   "outputs": [
    {
     "name": "stdout",
     "output_type": "stream",
     "text": [
      "[MNIST]     image size: 28x28 total dataset images: 10000 images to be read: 10\n"
     ]
    },
    {
     "data": {
      "image/png": "[encoded data removed]",
      "text/plain": [
       "<Figure size 1000x200 with 10 Axes>"
      ]
     },
     "metadata": {},
     "output_type": "display_data"
    }
   ],
   "source": [
    "def MNIST_test():\n",
    "    # Read the 10 first images from the MNIST dataset\n",
    "    dataset = MNIST(\"./data/t10k-images-idx3-ubyte.gz\", \"./data/t10k-labels-idx1-ubyte.gz\", 10)\n",
    "\n",
    "    # Iterate the dataset\n",
    "    images = []\n",
    "    for img, label in dataset:\n",
    "        images.append((img, label))\n",
    "\n",
    "    # Show the result\n",
    "    fig, axes = plt.subplots(1, len(images), figsize=(10, 2))\n",
    "    for i in range(len(images)):\n",
    "        img = np.array(images[i][0]).reshape(28, 28)\n",
    "        axes[i].set_title(f\"{images[i][1]}\")\n",
    "        axes[i].imshow(img, cmap=\"gray\")  # Redimensiona cada imagen a 28x28\n",
    "        axes[i].axis(\"off\")  # Oculta los ejes\n",
    "\n",
    "    plt.show()\n",
    "\n",
    "MNIST_test()"
   ]
  },
  {
   "cell_type": "code",
   "execution_count": 28,
   "metadata": {},
   "outputs": [
    {
     "name": "stdout",
     "output_type": "stream",
     "text": [
      "[MNIST]     image size: 28x28 total dataset images: 60000 images to be read: 60000\n",
      "[MNIST]     image size: 28x28 total dataset images: 10000 images to be read: 10000\n"
     ]
    }
   ],
   "source": [
    "dataset_train       = MNIST(\"./data/train-images-idx3-ubyte.gz\", \"./data/train-labels-idx1-ubyte.gz\")\n",
    "dataset_test        = MNIST(\"./data/t10k-images-idx3-ubyte.gz\", \"./data/t10k-labels-idx1-ubyte.gz\")\n",
    "X_train, Y_train    = dataset_train.to_numpy()\n",
    "X_test, Y_test      = dataset_test.to_numpy()"
   ]
  },
  {
   "cell_type": "markdown",
   "metadata": {},
   "source": [
    "## RBM Base"
   ]
  },
  {
   "cell_type": "markdown",
   "metadata": {},
   "source": [
    "This is the main class of our implementation..."
   ]
  },
  {
   "cell_type": "code",
   "execution_count": 29,
   "metadata": {},
   "outputs": [],
   "source": [
    "def sigmoid(z):\n",
    "    return 1/(1 + np.exp(-z))\n",
    "\n",
    "def kl_divergence(p, q):\n",
    "    \"\"\"\n",
    "    The KL-Divergence measures how different are two probability distributions\n",
    "    over the same variable. \n",
    "    \"\"\" \n",
    "    assert len(p) == len(q)\n",
    "    q[q == 0] = 0.00000001 # Not let any element of q be 0\n",
    "    return sum(p[i] * np.log2(p[i] / q[i]) for i in range(len(p)) if p[i] > 0)"
   ]
  },
  {
   "cell_type": "code",
   "execution_count": 31,
   "metadata": {},
   "outputs": [],
   "source": [
    "class RBM(ABC):\n",
    "    \"\"\"\n",
    "        Implementation of Restricted Boltzman Machine for\n",
    "        KISA Optimization Techniques by Sandra Burgos and\n",
    "        Alan Garcia.\n",
    "        \n",
    "        References:\n",
    "            - https://es.wikipedia.org/wiki/M%C3%A1quina_de_Boltzmann_restringida\n",
    "            - https://upcommons.upc.edu/bitstream/handle/2117/344139/TFM.pdf?sequence=2&isAllowed=y\n",
    "\n",
    "        Other resources for implementation:\n",
    "            1. https://leftasexercise.com/2018/04/09/restricted-boltzmann-machines/\n",
    "            2. https://leftasexercise.com/2018/04/13/learning-algorithms-for-restricted-boltzmann-machines-contrastive-divergence/\n",
    "            3. https://leftasexercise.com/2018/04/20/training-restricted-boltzmann-machines-with-persistent-contrastive-divergence/ \n",
    "            4. https://christian-igel.github.io/paper/TRBMAI.pdf\n",
    "    \"\"\"\n",
    "    def __init__(self, visible_nodes, hidden_nodes, k: int = 1, pretrained: str = None) -> None:\n",
    "        \"\"\"\n",
    "            n_v: number of visible nodes\n",
    "            n_h: number of hidden nodes\n",
    "            k -> Number of gibbsampling steps to be performed    \n",
    "            pretrained: path of a rbm model checkpoint to load\n",
    "\n",
    "            W -> Network weights\n",
    "            a -> Visible layer biases\n",
    "            b -> Hidden layer biases\n",
    "        \"\"\"\n",
    "        \n",
    "        if pretrained:\n",
    "            self._load(pretrained)\n",
    "        else:\n",
    "            self.n_v = visible_nodes\n",
    "            self.n_h = hidden_nodes\n",
    "            self.k = k \n",
    "    \n",
    "            # Initialize random weights from uniform distribution (Xavier initialization)\n",
    "            limit = np.sqrt(6. / (self.n_v + self.n_h))\n",
    "            self.W = np.random.uniform(low=-limit, high=limit, size=(self.n_v, self.n_h))\n",
    "            self.a = np.random.uniform(low=-limit, high=limit, size=(self.n_v)) # np.zeros((1, visible_nodes))\n",
    "            self.b = np.random.uniform(low=-limit, high=limit, size=(self.n_h)) # np.zeros((1, hidden_nodes))\n",
    "    \n",
    "    def _load(self, filename:str):\n",
    "        \"\"\"\n",
    "            Load the params from a pretrained model \n",
    "        \"\"\"\n",
    "        f = open(filename, 'rb')\n",
    "        tmp_dict = pickle.load(f)\n",
    "        f.close()          \n",
    "\n",
    "        self.__dict__.update(tmp_dict) \n",
    "\n",
    "    def save(self, filename:str):\n",
    "        \"\"\"\n",
    "            Save the model params\n",
    "        \"\"\"\n",
    "        base, ext = os.path.splitext(filename)  # Separate name and extension\n",
    "    \n",
    "        # Check if the file exists\n",
    "        while os.path.exists(filename):\n",
    "            filename = f\"{base}_({i}){ext}\"\n",
    "            i += 1\n",
    "\n",
    "        f = open(filename, 'wb')\n",
    "        pickle.dump(self.__dict__, f, 2)\n",
    "        f.close()\n",
    "\n",
    "    def _forward(self, V):\n",
    "        \"\"\" \n",
    "            Fordward propagation:\n",
    "            Activation probability \n",
    "                > P(hj = 1 | v) = S (bj + sum_i=1^m(Wi,j * vi) )\n",
    "                    where S is the sigmoid function, v the visible layers set and h the hidden layers set\n",
    "                > P(h | v) = S( b + v @ W)\n",
    "        \"\"\"\n",
    "        # V: (N, visible_nodes)\n",
    "        h_p = np.dot(V, self.W) + self.b\n",
    "        h_p = sigmoid(h_p)\n",
    "        assert h_p.shape == (V.shape[0], self.n_h)\n",
    "\n",
    "        h = np.random.binomial(1, h_p, size=h_p.shape)\n",
    "        return h_p, h\n",
    "    \n",
    "    def _backward(self, H):\n",
    "        \"\"\"\n",
    "            Backward:\n",
    "            Activation probability > P(vi = 1 | h) = S (ai + sum_j=1^m(Wi,j * hj) )\n",
    "                where S is the sigmoid function, v the visible layers set and h the hidden layers set\n",
    "        \"\"\"\n",
    "        # V: (N, hidden_nodes)\n",
    "        v_p = np.dot(H, self.W.T) + self.a\n",
    "        v_p = sigmoid(v_p)\n",
    "        assert v_p.shape == (H.shape[0], self.n_v)\n",
    "\n",
    "        v = np.random.binomial(1, v_p, size=v_p.shape)\n",
    "        return v_p, v\n",
    "\n",
    "    def _gibbsampling(self, V):\n",
    "        \"\"\"\n",
    "            Perform Gibbsampling\n",
    "            OUTPUT: (h_p, h, v_p_, v_)\n",
    "                h_p: hidden layer activation probs\n",
    "                h: hidden layer samples\n",
    "                v_p_: visible layer activation probs\n",
    "                v_: visible layer reconstruction\n",
    "        \"\"\"\n",
    "        v = V\n",
    "        for i in range(self.k):\n",
    "            h_p, h = self._forward(v)\n",
    "            v_p, v = self._backward(h)\n",
    "        return h_p, h, v_p, v\n",
    "\n",
    "    @abstractmethod\n",
    "    def fit():\n",
    "        \"\"\"\n",
    "        The objective is to minimize the energy E of the system:\n",
    "            E(v, h)=-a' v - b' h - v' W h\n",
    "        So, to train the RBM we need to compute these terms:\n",
    "            ∂Energy(v, h)/∂Wij = −hi · vj\n",
    "            ∂Energy(v, h)/∂bj = −vj\n",
    "            ∂Energy(v, h)/∂ci = −hi\n",
    "        However, we don't have access to v and h but we have access\n",
    "        to ther probabilities p_v and p_h, so we have to sample from\n",
    "        P(v | h) and P(h | v)\n",
    "        But direct sampling from those distributions is hard, thats why \n",
    "        CD, PCD and other methods were developed\n",
    "        \"\"\"\n",
    "        raise NotImplemented\n",
    "\n",
    "    def reconstruct(self, X):\n",
    "        \"\"\"\n",
    "            Gibbsampling step to reconstruct output vk from v0 input.\n",
    "            OUTPUT: generated visible layer output\n",
    "        \"\"\"\n",
    "        h_p, h, v_p_, v_  = self._gibbsampling(X)\n",
    "        return v_"
   ]
  },
  {
   "cell_type": "markdown",
   "metadata": {},
   "source": []
  },
  {
   "cell_type": "code",
   "execution_count": 32,
   "metadata": {},
   "outputs": [
    {
     "name": "stdout",
     "output_type": "stream",
     "text": [
      "RBM BASE TEST\n",
      "Test input shape: (1, 4) Test input: \n",
      "[[0.001 1.    0.001 1.   ]]\n",
      "rbm visible nodes: 4 hidden nodes: 4\n",
      "rbm.a biasses shape: (4,) rbm.a biasses: \n",
      "[ 0.20223002  0.41614516 -0.95883101  0.9398197 ]\n",
      "rbm.b biasses shape: (2,) rbm.b biasses: \n",
      "[ 0.66488528 -0.57532178]\n",
      "rbm.W weights shape: (4, 2) rbm.W weights: \n",
      "[[-0.25091976  0.90142861]\n",
      " [ 0.46398788  0.19731697]\n",
      " [-0.68796272 -0.68801096]\n",
      " [-0.88383278  0.73235229]]\n",
      "rbm forward shape(1, 2) rbm forward out: \n",
      "[[0.56072415 0.58772315]]\n",
      "rbm backward shape(1, 4) rbm backward out: \n",
      "[[0.64366881 0.68832114 0.1481799  0.70571312]]\n",
      "rbm reconstruct process for v input and 1 gibbsampling steps: \n",
      "[[1 1 0 0]]\n",
      "KL-Divergence between input and final RBM probability output: 7.940179085645143\n",
      "===================================\n",
      "\n"
     ]
    }
   ],
   "source": [
    "# Example data input\n",
    "v = np.array([\n",
    "    [0.001, 1, 0.001, 1]\n",
    "    ])\n",
    "\n",
    "# Instantiate the RBM test object\n",
    "class RBM_BASE(RBM):\n",
    "    def __init__(self, visible_nodes, hidden_nodes):\n",
    "        super().__init__(visible_nodes, hidden_nodes)\n",
    "    def fit():\n",
    "        # Train not implemented for just testing \n",
    "        # the vissible and hidden layers\n",
    "        pass\n",
    "rbm = RBM_BASE(4, 2)\n",
    "p_h, h = rbm._forward(v)\n",
    "\n",
    "print(\"RBM BASE TEST\")\n",
    "print(f\"Test input shape: {v.shape} Test input: \\n{v}\")\n",
    "print(f\"rbm visible nodes: {rbm.n_v} hidden nodes: {rbm.n_v}\")\n",
    "print(f\"rbm.a biasses shape: {rbm.a.shape} rbm.a biasses: \\n{rbm.a}\")\n",
    "print(f\"rbm.b biasses shape: {rbm.b.shape} rbm.b biasses: \\n{rbm.b}\")\n",
    "print(f\"rbm.W weights shape: {rbm.W.shape} rbm.W weights: \\n{rbm.W}\")\n",
    "print(f\"rbm forward shape{p_h.shape} rbm forward out: \\n{p_h}\")\n",
    "\n",
    "p_v, v = rbm._backward(p_h)\n",
    "print(f\"rbm backward shape{p_v.shape} rbm backward out: \\n{p_v}\")\n",
    "\n",
    "v_ = rbm.reconstruct(v)\n",
    "print(f\"rbm reconstruct process for v input and {rbm.k} gibbsampling steps: \\n{v_}\")\n",
    "    \n",
    "# The goal is to reduce the divergence between the input probability\n",
    "# dsitribution and the output. \n",
    "# v = np.array([1, 0.001, 0.001, 1])\n",
    "# v_ = np.array([1, 1, 1, 1])\n",
    "# kld = 0.98860 >> 0 -> significant divergence\n",
    "kld = kl_divergence(v.flatten() / np.sum(v.flatten()), v_.flatten() / np.sum(v_.flatten()))\n",
    "print(f\"KL-Divergence between input and final RBM probability output: {kld}\")\n",
    "print(\"===================================\")\n",
    "print()"
   ]
  },
  {
   "cell_type": "markdown",
   "metadata": {},
   "source": [
    "## RBM Contrastive Divergence"
   ]
  },
  {
   "cell_type": "markdown",
   "metadata": {},
   "source": [
    "Here it is the implementation of the Contrastive Divergence algorithm for training Restricted Boltzman Machines..."
   ]
  },
  {
   "cell_type": "code",
   "execution_count": 33,
   "metadata": {},
   "outputs": [],
   "source": [
    "\n",
    "class RBM_CD(RBM):\n",
    "    def __init__(self, visible_nodes, hidden_nodes, k: int = 1) -> None:\n",
    "       super().__init__(visible_nodes, hidden_nodes, k)\n",
    "    \n",
    "    def _contrastive_divergence(self, batch, batch_size, lr):  \n",
    "        \"\"\"\n",
    "            K-Step Contrastive Divergence Algorithm\n",
    "        \"\"\"      \n",
    "        v = batch\n",
    "        h_p, h, v_p_, v_ = self._gibbsampling(v)\n",
    "        h_p_, h_ = self._forward(v_)\n",
    "        \n",
    "        # v_p_, v_, h_p_ and h_ are on the negative phase\n",
    "        possitive_association = np.dot(v.T, h_p)\n",
    "        negative_association = np.dot(v_.T, h_p_)\n",
    "        \n",
    "        \n",
    "        # Update the parameters\n",
    "        # W += lr * (possitive_associations - negative_associations)\n",
    "        # possitive_associations = v • p_v\n",
    "        # negative_associations = vk • p_vk\n",
    "        self.W += lr * (possitive_association - negative_association) / batch_size\n",
    "        self.a += lr * np.mean(v - v_, axis=0)\n",
    "        self.b += lr * np.mean(h_p - h_p_, axis=0)\n",
    "        \n",
    "        #Compute loss for the instance\n",
    "        error = np.sum((v - v_)**2) / batch_size\n",
    "        return error\n",
    "   \n",
    "    def fit(self, X, epochs = 10, batch_dim = 32, lr = 0.01, verbose = False) -> list:\n",
    "        \"\"\"\n",
    "             Train the RBM using Contrastive Divergence\n",
    "        \"\"\"\n",
    "        train_errors = []\n",
    "        for epoch in range(epochs):\n",
    "            t_error = 0.0\n",
    "            train_num = X.shape[0]\n",
    "            batches = list(gen_batches(train_num, batch_dim))\n",
    "            for batch in batches:\n",
    "                batch = X[batch.start:batch.stop]\n",
    "                batch_size = batch.shape[0]\n",
    "\n",
    "                error = self._contrastive_divergence(batch, batch_size, lr)\n",
    "                t_error += error\n",
    "            \n",
    "            t_error /= len(batches)\n",
    "            train_errors.append(t_error)\n",
    "            if verbose:\n",
    "                print(f\"epoch: {epoch}/{epochs} \\t{'error:'} {t_error}\")\n",
    "        \n",
    "        return train_errors"
   ]
  },
  {
   "cell_type": "markdown",
   "metadata": {},
   "source": [
    "### XOR Function Modeling with CD RMB"
   ]
  },
  {
   "cell_type": "markdown",
   "metadata": {},
   "source": [
    "Let's try to model a XOR logic gate using the Contrastive Divergence RBM we have already implemented.\n",
    "To make this, we will set the train set as all the posible inputs/output of the XOR gate and then we will try to give the RBM an impossible input for the XOR logic and check if the reconstructed input follows the internal distribution of the XOR gate.\n",
    "\n",
    "The hipotesis here is that as the Restricted Boltzman Machine has the hability to learn the distribution of a given set, when it is exposed to data that hasn't seen before it will try to adapt that input to it's already learned distribution. "
   ]
  },
  {
   "cell_type": "markdown",
   "metadata": {},
   "source": []
  },
  {
   "cell_type": "code",
   "execution_count": 34,
   "metadata": {},
   "outputs": [],
   "source": [
    "# Train data\n",
    "xor_logic = np.array([\n",
    "    [0, 0, 1],\n",
    "    [0, 1, 0],\n",
    "    [1, 0, 0],\n",
    "    [1, 1, 1],\n",
    "])\n",
    "\n",
    "# Hyperparameters\n",
    "k_gibbs_steps   = 5\n",
    "learning_rate   = 0.0001\n",
    "hidden_nodes    = 2     # Number of visible nodes are the input shape\n",
    "epochs          = 10    # Number of epochs"
   ]
  },
  {
   "cell_type": "code",
   "execution_count": 37,
   "metadata": {},
   "outputs": [
    {
     "name": "stdout",
     "output_type": "stream",
     "text": [
      "RBM CD FUNCTION APROXIMATION TEST\n",
      "XOR logic set shape: (4, 3)\t XOR logic:\n",
      "[[0 0 1]\n",
      " [0 1 0]\n",
      " [1 0 0]\n",
      " [1 1 1]]\n",
      "rbm visible nodes: 3 hidden nodes: 3\n",
      "rbm.a biasses shape: (3,) rbm.a biasses: \n",
      "[ 0.21448811  0.92428014 -0.90156776]\n",
      "rbm.b biasses shape: (2,) rbm.b biasses: \n",
      "[-0.66606818 -0.99635709]\n",
      "rbm.W weights shape: (3, 2) rbm.W weights: \n",
      "[[ 0.10233709 -0.69044929]\n",
      " [ 1.02880837  0.60278581]\n",
      " [ 0.96289394  0.86502338]]\n"
     ]
    }
   ],
   "source": [
    "# Instantiate the RBM object\n",
    "rbm = RBM_CD(xor_logic.shape[1], hidden_nodes, k=k_gibbs_steps)\n",
    "\n",
    "# Print some information about the matrix shapes\n",
    "print(\"RBM CD FUNCTION APROXIMATION TEST\")\n",
    "print(f\"XOR logic set shape: {xor_logic.shape}\\t XOR logic:\\n{xor_logic}\")\n",
    "print(f\"rbm visible nodes: {rbm.n_v} hidden nodes: {rbm.n_v}\")\n",
    "print(f\"rbm.a biasses shape: {rbm.a.shape} rbm.a biasses: \\n{rbm.a}\")\n",
    "print(f\"rbm.b biasses shape: {rbm.b.shape} rbm.b biasses: \\n{rbm.b}\")\n",
    "print(f\"rbm.W weights shape: {rbm.W.shape} rbm.W weights: \\n{rbm.W}\")"
   ]
  },
  {
   "cell_type": "code",
   "execution_count": 38,
   "metadata": {},
   "outputs": [
    {
     "name": "stdout",
     "output_type": "stream",
     "text": [
      "epoch: 0/10 \terror: 1.5\n",
      "epoch: 1/10 \terror: 2.25\n",
      "epoch: 2/10 \terror: 1.75\n",
      "epoch: 3/10 \terror: 2.25\n",
      "epoch: 4/10 \terror: 0.75\n",
      "epoch: 5/10 \terror: 1.75\n",
      "epoch: 6/10 \terror: 2.0\n",
      "epoch: 7/10 \terror: 1.5\n",
      "epoch: 8/10 \terror: 2.5\n",
      "epoch: 9/10 \terror: 1.25\n",
      "Final rbm.a biasses: \n",
      "[ 0.21488811  0.92268014 -0.90216776]\n",
      "Final rbm.b biasses: \n",
      "[-0.66609732 -0.99638266]\n",
      "Final rbm.W weights: \n",
      "[[ 0.10256821 -0.69013989]\n",
      " [ 1.02757825  0.60199702]\n",
      " [ 0.96231539  0.86453684]]\n"
     ]
    }
   ],
   "source": [
    "rbm.fit(xor_logic, epochs=epochs, batch_dim=1, lr=learning_rate, verbose=True)\n",
    "\n",
    "print(f\"Final rbm.a biasses: \\n{rbm.a}\")\n",
    "print(f\"Final rbm.b biasses: \\n{rbm.b}\")\n",
    "print(f\"Final rbm.W weights: \\n{rbm.W}\")"
   ]
  },
  {
   "cell_type": "markdown",
   "metadata": {},
   "source": [
    "Here `v` is an impossible state of a XOR logic gate were `x1 = x2 = 1` and the output is `y = 0` where it should be `y = 1`"
   ]
  },
  {
   "cell_type": "code",
   "execution_count": 39,
   "metadata": {},
   "outputs": [
    {
     "name": "stdout",
     "output_type": "stream",
     "text": [
      "Impossible inut: [[1 1 0]]\n",
      "Reconstructed output: [[0 1 0]]\n"
     ]
    }
   ],
   "source": [
    "# Recontruction\n",
    "v = np.array([[1, 1, 0]]) # This is not possible for XOR function\n",
    "v_ = rbm.reconstruct(v)\n",
    "print(f\"Impossible inut: {v}\") \n",
    "print(f\"Reconstructed output: {v_}\")"
   ]
  },
  {
   "cell_type": "code",
   "execution_count": 40,
   "metadata": {},
   "outputs": [
    {
     "data": {
      "image/png": "[encoded data removed]",
      "text/plain": [
       "<Figure size 640x480 with 1 Axes>"
      ]
     },
     "metadata": {},
     "output_type": "display_data"
    }
   ],
   "source": [
    "# Plot the results with matplotlib\n",
    "grt_color_map = { 0: \"blue\", 1: \"red\" } # Ground_truth color map\n",
    "rbm_color_map = { 0: \"blue\", 1: \"red\" } # RBM prediction color map\n",
    "\n",
    "# Ground truth\n",
    "grt_xor_0 = xor_logic[xor_logic[:, 2] == 0]\n",
    "grt_xor_1 = xor_logic[xor_logic[:, 2] == 1]\n",
    "plt.scatter(grt_xor_0[:, 0], grt_xor_0[:, 1], s = 100, color = grt_color_map[0], label = \"grt y = 0\", )\n",
    "plt.scatter(grt_xor_1[:, 0], grt_xor_1[:, 1], s = 100, color = grt_color_map[1], label = \"grt y = 1\", )\n",
    "    \n",
    "# Reconstruction    \n",
    "plt.scatter(v[:, 0], v[:, 1], s = 150, color = \"black\", label = \"Impossible for XOR\", alpha=0.6)\n",
    "plt.scatter(v_[:, 0], v_[:, 1], s = 150, color = \"green\", label = \"Reconstructed by RBM\", alpha=0.6)\n",
    "\n",
    "# Show\n",
    "plt.xlabel(\"x1\")\n",
    "plt.ylabel(\"x2\")\n",
    "plt.title(\"RBM XOR Logic Gate\")\n",
    "plt.grid()\n",
    "plt.legend()\n",
    "plt.show()"
   ]
  },
  {
   "cell_type": "markdown",
   "metadata": {},
   "source": [
    "### MNIST Data Reconstruction with CD RBM"
   ]
  },
  {
   "cell_type": "code",
   "execution_count": 42,
   "metadata": {},
   "outputs": [
    {
     "name": "stdout",
     "output_type": "stream",
     "text": [
      "RBM CD MNIST RECONSTRUCTION TEST\n",
      "Hyperparameters:\n",
      "\tX_train instances: 60000\tX_test instances: 10000\n",
      "\tbatch size: 64\tepochs: 100\tlearning rate: 0.1\n",
      "\tvisible nodes: 784\thidden nodes:30\n"
     ]
    }
   ],
   "source": [
    "# Hyperparameters\n",
    "k = 1\n",
    "batch_size    = 64\n",
    "learning_rate = 0.1\n",
    "hidden_nodes  = 30      # Number of visible nodes are the input shape\n",
    "epochs        = 100     # Number of epochs\n",
    "\n",
    "print(\"RBM CD MNIST RECONSTRUCTION TEST\")\n",
    "print(f\"Hyperparameters:\")\n",
    "print(f\"\\tX_train instances: {X_train.shape[0]}\\tX_test instances: {X_test.shape[0]}\")\n",
    "print(f\"\\tbatch size: {batch_size}\\tepochs: {epochs}\\tlearning rate: {learning_rate}\")\n",
    "print(f\"\\tvisible nodes: {X_train.shape[1]}\\thidden nodes:{hidden_nodes}\")"
   ]
  },
  {
   "cell_type": "code",
   "execution_count": 45,
   "metadata": {},
   "outputs": [
    {
     "name": "stdout",
     "output_type": "stream",
     "text": [
      "epoch: 0/100 \terror: 102.13631063432835\n",
      "epoch: 1/100 \terror: 81.58896921641791\n",
      "epoch: 2/100 \terror: 77.43566764392324\n",
      "epoch: 3/100 \terror: 75.67487340085287\n",
      "epoch: 4/100 \terror: 74.83580423773988\n",
      "epoch: 5/100 \terror: 74.3315565031983\n",
      "epoch: 6/100 \terror: 74.06010127931769\n",
      "epoch: 7/100 \terror: 73.77690231876332\n",
      "epoch: 8/100 \terror: 73.66721082089552\n",
      "epoch: 9/100 \terror: 73.55228877931769\n",
      "epoch: 10/100 \terror: 73.416677771855\n",
      "epoch: 11/100 \terror: 73.29247734541578\n",
      "epoch: 12/100 \terror: 73.06188366204691\n",
      "epoch: 13/100 \terror: 72.95550706289978\n",
      "epoch: 14/100 \terror: 72.82660914179104\n",
      "epoch: 15/100 \terror: 72.80946828358209\n",
      "epoch: 16/100 \terror: 72.80908515458422\n",
      "epoch: 17/100 \terror: 72.67877132196162\n",
      "epoch: 18/100 \terror: 72.63014725479744\n",
      "epoch: 19/100 \terror: 72.53776319296375\n",
      "epoch: 20/100 \terror: 72.45170908848614\n",
      "epoch: 21/100 \terror: 72.4025019989339\n",
      "epoch: 22/100 \terror: 72.27671908315565\n",
      "epoch: 23/100 \terror: 72.24978344882729\n",
      "epoch: 24/100 \terror: 72.152601945629\n",
      "epoch: 25/100 \terror: 72.07565964818764\n",
      "epoch: 26/100 \terror: 72.06308302238806\n",
      "epoch: 27/100 \terror: 71.99317030916845\n",
      "epoch: 28/100 \terror: 71.88441164712154\n",
      "epoch: 29/100 \terror: 71.80297174840085\n",
      "epoch: 30/100 \terror: 71.72799506929637\n",
      "epoch: 31/100 \terror: 71.63141324626865\n",
      "epoch: 32/100 \terror: 71.63835954157783\n",
      "epoch: 33/100 \terror: 71.52546974946695\n",
      "epoch: 34/100 \terror: 71.3571761727079\n",
      "epoch: 35/100 \terror: 71.32149520255864\n",
      "epoch: 36/100 \terror: 71.30900186567165\n",
      "epoch: 37/100 \terror: 71.2329257729211\n",
      "epoch: 38/100 \terror: 71.14114139125799\n",
      "epoch: 39/100 \terror: 71.05053971215352\n",
      "epoch: 40/100 \terror: 70.92110874200426\n",
      "epoch: 41/100 \terror: 70.88236273987206\n",
      "epoch: 42/100 \terror: 70.77736873667378\n",
      "epoch: 43/100 \terror: 70.70872201492537\n",
      "epoch: 44/100 \terror: 70.68003731343283\n",
      "epoch: 45/100 \terror: 70.65236873667378\n",
      "epoch: 46/100 \terror: 70.59459954690831\n",
      "epoch: 47/100 \terror: 70.62678238272922\n",
      "epoch: 48/100 \terror: 70.53591417910448\n",
      "epoch: 49/100 \terror: 70.50211553837953\n",
      "epoch: 50/100 \terror: 70.51320962153518\n",
      "epoch: 51/100 \terror: 70.48032715884861\n",
      "epoch: 52/100 \terror: 70.40346815031982\n",
      "epoch: 53/100 \terror: 70.37005263859275\n",
      "epoch: 54/100 \terror: 70.3891591151386\n",
      "epoch: 55/100 \terror: 70.32401052771856\n",
      "epoch: 56/100 \terror: 70.3470815565032\n",
      "epoch: 57/100 \terror: 70.28429837420043\n",
      "epoch: 58/100 \terror: 70.25579690831556\n",
      "epoch: 59/100 \terror: 70.24981676439232\n",
      "epoch: 60/100 \terror: 70.19652851812367\n",
      "epoch: 61/100 \terror: 70.16352945095949\n",
      "epoch: 62/100 \terror: 70.18964885394456\n",
      "epoch: 63/100 \terror: 70.16066431236673\n",
      "epoch: 64/100 \terror: 70.23147654584221\n",
      "epoch: 65/100 \terror: 70.1476046108742\n",
      "epoch: 66/100 \terror: 70.10002998400853\n",
      "epoch: 67/100 \terror: 70.07434368336887\n",
      "epoch: 68/100 \terror: 70.09141791044776\n",
      "epoch: 69/100 \terror: 70.05252198827291\n",
      "epoch: 70/100 \terror: 70.05128931236673\n",
      "epoch: 71/100 \terror: 69.9497934434968\n",
      "epoch: 72/100 \terror: 69.96315298507463\n",
      "epoch: 73/100 \terror: 69.93819962686567\n",
      "epoch: 74/100 \terror: 69.83873600746269\n",
      "epoch: 75/100 \terror: 69.8805137260128\n",
      "epoch: 76/100 \terror: 69.83295575692964\n",
      "epoch: 77/100 \terror: 69.84889725479744\n",
      "epoch: 78/100 \terror: 69.76470882196162\n",
      "epoch: 79/100 \terror: 69.84454957356077\n",
      "epoch: 80/100 \terror: 69.70600679637526\n",
      "epoch: 81/100 \terror: 69.74137126865672\n",
      "epoch: 82/100 \terror: 69.71405250533049\n",
      "epoch: 83/100 \terror: 69.71800039978677\n",
      "epoch: 84/100 \terror: 69.67297441364606\n",
      "epoch: 85/100 \terror: 69.63452825159915\n",
      "epoch: 86/100 \terror: 69.65173574093816\n",
      "epoch: 87/100 \terror: 69.65808235607676\n",
      "epoch: 88/100 \terror: 69.66108075692964\n",
      "epoch: 89/100 \terror: 69.72797841151386\n",
      "epoch: 90/100 \terror: 69.645822228145\n",
      "epoch: 91/100 \terror: 69.65331823027718\n",
      "epoch: 92/100 \terror: 69.65616671108742\n",
      "epoch: 93/100 \terror: 69.61317297441364\n",
      "epoch: 94/100 \terror: 69.58978544776119\n",
      "epoch: 95/100 \terror: 69.59408315565032\n",
      "epoch: 96/100 \terror: 69.56561500533049\n",
      "epoch: 97/100 \terror: 69.58870269189765\n",
      "epoch: 98/100 \terror: 69.57595948827291\n",
      "epoch: 99/100 \terror: 69.57610940831556\n",
      "Train:\n"
     ]
    }
   ],
   "source": [
    "# Initialize RBM with 30 hidden units and train it for 100 epochs\n",
    "rbm = RBM_CD(visible_nodes=X_train.shape[1], hidden_nodes=hidden_nodes, k=k)\n",
    "\n",
    "print(\"Train:\")\n",
    "rbm.fit(X_train, epochs=epochs, batch_dim=batch_size, lr=learning_rate, verbose=True)"
   ]
  },
  {
   "cell_type": "markdown",
   "metadata": {},
   "source": [
    "Perform the RBM reconstruction over a restricted set from the `test_set` where there is one example of each label and then show the results"
   ]
  },
  {
   "cell_type": "code",
   "execution_count": 46,
   "metadata": {},
   "outputs": [
    {
     "data": {
      "image/png": "[encoded data removed]",
      "text/plain": [
       "<Figure size 3000x600 with 20 Axes>"
      ]
     },
     "metadata": {},
     "output_type": "display_data"
    }
   ],
   "source": [
    "# reconstruction\n",
    "digit_indices = [np.where(Y_test == i)[0][0] for i in range(10)]\n",
    "resticted_set = X_test[digit_indices]\n",
    "\n",
    "reconstructed = rbm.reconstruct(resticted_set)\n",
    "\n",
    "# show 10 sample images\n",
    "rows = 2\n",
    "columns = 10\n",
    "\n",
    "fig, axes = plt.subplots(rows, columns,sharey = True,figsize=(30, 6))\n",
    "for i in range(rows):\n",
    "    for j in range(columns):\n",
    "        if i==0:\n",
    "          axes[i, j].imshow(resticted_set[j].reshape(28, 28))\n",
    "        else:\n",
    "          axes[i, j].imshow(reconstructed[j].reshape(28, 28))\n",
    "\n",
    "        axes[i, j].tick_params(left = False, right = False , labelleft = False,\n",
    "                labelbottom = False, bottom = False)\n",
    "\n",
    "axes[0, 0].set_ylabel(\"ACTUAL\", fontsize=12)\n",
    "axes[1, 0].set_ylabel(\"REC.\", fontsize=12)\n",
    "plt.show()"
   ]
  },
  {
   "cell_type": "markdown",
   "metadata": {},
   "source": [
    "## RBM Persistent Contrastive Divergence"
   ]
  },
  {
   "cell_type": "markdown",
   "metadata": {},
   "source": [
    "Here it is the implementation of the Persisten Contrastive Divergence algorithm..."
   ]
  },
  {
   "cell_type": "code",
   "execution_count": 41,
   "metadata": {},
   "outputs": [],
   "source": [
    "class RBM_PCD(RBM):\n",
    "    def __init__(self, visible_nodes, hidden_nodes, batch_size = 32, k: int = 2) -> None:\n",
    "        super().__init__(visible_nodes, hidden_nodes, k)\n",
    "        self.current_step = 0 # For learning rate decay\n",
    "\n",
    "        # Initialize the visible persistent values\n",
    "        self.visible_persistent = np.random.binomial(1, 0.5, size=(batch_size, self.n_v))  \n",
    "    \n",
    "    def _persistent_contrastive_divergence(self, batch, batch_size, lr, weight_decay):\n",
    "        \"\"\"\n",
    "            K-Step Parallel Tempering Algorithm\n",
    "        \"\"\"\n",
    "        \n",
    "        v = batch\n",
    "        v_persistent = self.visible_persistent\n",
    "\n",
    "        h_p, _= self._forward(v)\n",
    "        _, _, _, v_persistent_ = self._gibbsampling(v_persistent)\n",
    "        h_p_persistent_, _ = self._forward(v_persistent_)\n",
    "\n",
    "        possitive_association = np.dot(v.T, h_p)\n",
    "        negative_association = np.dot(v_persistent_.T, h_p_persistent_)\n",
    "        \n",
    "        # Update the parameters\n",
    "        self.W += lr * (possitive_association - negative_association) / batch_size  - weight_decay * self.W / batch_size\n",
    "        self.a += lr * np.mean(v - v_persistent_, axis=0)\n",
    "        self.b += lr * np.mean(h_p - h_p_persistent_, axis=0)\n",
    "        self.visible_persistent = v_persistent_\n",
    "\n",
    "        #Compute loss for the instance\n",
    "        error = np.sum((v - self.visible_persistent)**2) / batch_size\n",
    "        return error\n",
    "\n",
    "    def fit(self, X, epochs = 10, batch_dim = 32, lr = 0.1, weight_decay = 0.001, verbose = False) -> list:\n",
    "        \"\"\"\n",
    "            Train the RBM using Persistent Contrastive Divergence\n",
    "        \"\"\"\n",
    "        self.current_step = 0 # lr linear decay\n",
    "\n",
    "        train_errors = []\n",
    "        for epoch in range(epochs):\n",
    "            t_error = 0.0\n",
    "            train_num = X.shape[0]\n",
    "            batches = list(gen_batches(train_num, batch_dim))\n",
    "            for batch in batches:\n",
    "                batch = X[batch.start:batch.stop]\n",
    "                batch_size = batch.shape[0]\n",
    "                \n",
    "                if batch_size != batch_dim:\n",
    "                    continue # skip\n",
    "\n",
    "                # Linear learning rate decay\n",
    "                learning_rate = lr\n",
    "                # learning_rate = lr *(1 - self.current_step / (batch_size * len(batches) * epochs))\n",
    "                # self.current_step += 1\n",
    "\n",
    "                t_error += self._persistent_contrastive_divergence(batch, batch_size, learning_rate, weight_decay)\n",
    "           \n",
    "            t_error /= len(batches)\n",
    "            train_errors.append(t_error)\n",
    "            \n",
    "            if verbose:\n",
    "                print(f\"epoch: {epoch}/{epochs} \\t{'error:'} {t_error}\")\n",
    "        return train_errors"
   ]
  },
  {
   "cell_type": "markdown",
   "metadata": {},
   "source": [
    "### MNIST Data Reconstruction with PCD RBM"
   ]
  },
  {
   "cell_type": "code",
   "execution_count": null,
   "metadata": {},
   "outputs": [],
   "source": [
    "\n",
    "# Hyperparameters\n",
    "k = 1\n",
    "batch_size    = 64\n",
    "learning_rate = 0.1\n",
    "hidden_nodes  = 30      # Number of visible nodes are the input shape\n",
    "epochs        = 100     # Number of epochs\n",
    "\n",
    "# Load some instances of the dataset\n",
    "dataset_train       = MNIST(\"./data/train-images-idx3-ubyte.gz\", \"./data/train-labels-idx1-ubyte.gz\")\n",
    "dataset_test        = MNIST(\"./data/t10k-images-idx3-ubyte.gz\", \"./data/t10k-labels-idx1-ubyte.gz\")\n",
    "X_train, Y_train    = dataset_train.to_numpy()\n",
    "X_test, Y_test      = dataset_test.to_numpy()\n",
    "#X_train, X_test, Y_train, Y_test = train_test_split(X, Y, test_size=test_size, random_state=42, stratify=Y)\n",
    "\n",
    "# Initialize RBM with 30 hidden units\n",
    "rbm = RBM_PCD(visible_nodes=X_train.shape[1], hidden_nodes=hidden_nodes, batch_size=batch_size, k= k)\n",
    "\n",
    "# Test\n",
    "print(\"RBM PCD MNIST RECONSTRUCTION TEST\")\n",
    "print(f\"Hyperparameters:\")\n",
    "print(f\"\\tX_train instances: {X_train.shape[0]}\\tX_test instances: {X_test.shape[0]}\")\n",
    "print(f\"\\tbatch size: {batch_size}\\tepochs: {epochs}\\tlearning rate: {learning_rate}\")\n",
    "print(f\"\\tvisible nodes: {X_train.shape[1]}\\thidden nodes:{hidden_nodes}\")\n",
    "print(f\"Training:\")\n",
    "rbm.fit(X_train, epochs=epochs, batch_dim=batch_size, lr=learning_rate)\n",
    "rbm.save(f\"./models/RBM_PCD_e{epochs}_bt{batch_size}_lr{learning_rate}_hn{hidden_nodes}_k{k}.pt\")\n",
    "\n",
    "\n",
    "# reconstruction\n",
    "digit_indices = [np.where(Y_test == i)[0][0] for i in range(10)]\n",
    "resticted_set = X_test[digit_indices]\n",
    "\n",
    "reconstructed = rbm.reconstruct(resticted_set)\n",
    "\n",
    "# show 10 sample images\n",
    "rows = 2\n",
    "columns = 10\n",
    "\n",
    "fig, axes = plt.subplots(rows, columns,sharey = True,figsize=(30, 6))\n",
    "for i in range(rows):\n",
    "    for j in range(columns):\n",
    "        if i==0:\n",
    "          axes[i, j].imshow(resticted_set[j].reshape(28, 28))\n",
    "        else:\n",
    "          axes[i, j].imshow(reconstructed[j].reshape(28, 28))\n",
    "\n",
    "        axes[i, j].tick_params(left = False, right = False , labelleft = False,\n",
    "                labelbottom = False, bottom = False)\n",
    "\n",
    "axes[0, 0].set_ylabel(\"ACTUAL\", fontsize=12)\n",
    "axes[1, 0].set_ylabel(\"REC.\", fontsize=12)\n",
    "plt.show()\n",
    "\n",
    "print(\"===================================\")\n",
    "print()"
   ]
  }
 ],
 "metadata": {
  "kernelspec": {
   "display_name": ".venv",
   "language": "python",
   "name": "python3"
  },
  "language_info": {
   "codemirror_mode": {
    "name": "ipython",
    "version": 3
   },
   "file_extension": ".py",
   "mimetype": "text/x-python",
   "name": "python",
   "nbconvert_exporter": "python",
   "pygments_lexer": "ipython3",
   "version": "3.12.6"
  }
 },
 "nbformat": 4,
 "nbformat_minor": 2
}
